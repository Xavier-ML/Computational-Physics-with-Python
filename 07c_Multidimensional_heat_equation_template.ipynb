{
  "cells": [
    {
      "cell_type": "markdown",
      "metadata": {
        "id": "view-in-github",
        "colab_type": "text"
      },
      "source": [
        "<a href=\"https://colab.research.google.com/github/Xavier-ML/Computational-Physics-with-Python/blob/main/07c_Multidimensional_heat_equation_template.ipynb\" target=\"_parent\"><img src=\"https://colab.research.google.com/assets/colab-badge.svg\" alt=\"Open In Colab\"/></a>"
      ]
    },
    {
      "cell_type": "markdown",
      "id": "c6805951",
      "metadata": {
        "id": "c6805951"
      },
      "source": [
        "# Multidimensional differential equations\n",
        "\n",
        "- Börge Göbel "
      ]
    },
    {
      "cell_type": "code",
      "execution_count": 1,
      "id": "921259c3",
      "metadata": {
        "id": "921259c3"
      },
      "outputs": [],
      "source": [
        "import numpy as np\n",
        "import matplotlib.pyplot as plt \n",
        "from scipy import integrate"
      ]
    },
    {
      "cell_type": "markdown",
      "id": "29eb17ec",
      "metadata": {
        "id": "29eb17ec"
      },
      "source": [
        "## Heat equation"
      ]
    },
    {
      "cell_type": "markdown",
      "id": "a0e04d81",
      "metadata": {
        "id": "a0e04d81"
      },
      "source": [
        "We solve the differential equations:\n",
        "\n",
        "\\begin{equation}\n",
        "\\frac{\\partial}{\\partial t} u(\\vec{r},t) = a \\Delta u(\\vec{r},t)\n",
        "\\end{equation}"
      ]
    },
    {
      "cell_type": "markdown",
      "id": "b461fb52",
      "metadata": {
        "id": "b461fb52"
      },
      "source": [
        "## In one dimension:\n",
        "\n",
        "\\begin{equation}\n",
        "\\frac{\\partial}{\\partial t} u(x,t) = a \\frac{\\partial^2}{\\partial x^2} u(x,t)\n",
        "\\end{equation}\n",
        "\n",
        "Here, \\\\( u(x,t) \\\\) is an array \\\\(\\{ u_1, u_2, \\dots, u_n \\} \\\\) that has different values for different times. It describes the temperature. We can discretize the spatial derivative according to:\n",
        "\n",
        "\\begin{equation} \n",
        "\\frac{\\partial^2}{\\partial x^2} u_j = \\frac{u_{j+1}-2u_{j}+u_{j-1}}{(\\Delta x)^2}\n",
        "\\end{equation}\n",
        "\n",
        "For the edges we use double-forward or double-backward methods:\n",
        "\n",
        "\\begin{equation}\n",
        "\\frac{\\partial^2}{\\partial x^2} u_1 = \\frac{u_{1}-2u_{2}+u_{3}}{(\\Delta x)^2}\\\\\n",
        "\\frac{\\partial^2}{\\partial x^2} u_n = \\frac{u_{n}-2u_{n-1}+u_{n-2}}{(\\Delta x)^2}\n",
        "\\end{equation}\n",
        "\n",
        "We can rewrite the heat equation as a set of coupled equation:\n",
        "\n",
        "\\begin{align}\n",
        "\\frac{\\partial}{\\partial t}u_1&=\\frac{a}{(\\Delta x)^2}\\left(u_1-2u_2+u_3\\right)\\\\\n",
        "\\frac{\\partial}{\\partial t}u_2&=\\frac{a}{(\\Delta x)^2}\\left(u_1-2u_2+u_3\\right)\\\\\n",
        "\\frac{\\partial}{\\partial t}u_3&=\\frac{a}{(\\Delta x)^2}\\left(u_2-2u_3+u_4\\right)\\\\ \n",
        "\\vdots\\\\ \n",
        "\\frac{\\partial}{\\partial t}u_j&=\\frac{a}{(\\Delta x)^2}\\left(u_{j-1}-2u_j+u_{j+1}\\right)\\\\ \n",
        "\\vdots\\\\\n",
        "\\frac{\\partial}{\\partial t}u_{n-2}&=\\frac{a}{(\\Delta x)^2}\\left(u_{n-3}-2u_{n-2}+u_{n-1}\\right)\\\\\n",
        "\\frac{\\partial}{\\partial t}u_{n-1}&=\\frac{a}{(\\Delta x)^2}\\left(u_{n-2}-2u_{n-1}+u_{n}\\right)\\\\\n",
        "\\frac{\\partial}{\\partial t}u_n&=\\frac{a}{(\\Delta x)^2}\\left(u_{n-2}-2u_{n-1}+u_{n}\\right)\n",
        "\\end{align}\n",
        "\n",
        "Alternatively, we can also keep the temperature at the edges constant and consider these to be (part of) the constant heat bath:\n",
        "\n",
        "\\begin{equation}\n",
        " u_1 = \\mathrm{const.}\\\\ u_n = \\mathrm{const.} \\end{equation}\n"
      ]
    },
    {
      "cell_type": "code",
      "source": [
        "np.zeros(5)"
      ],
      "metadata": {
        "colab": {
          "base_uri": "https://localhost:8080/"
        },
        "id": "PgS2HKRPKroJ",
        "outputId": "36d29203-eb2f-4275-906b-c389005a40bf"
      },
      "id": "PgS2HKRPKroJ",
      "execution_count": 33,
      "outputs": [
        {
          "output_type": "execute_result",
          "data": {
            "text/plain": [
              "array([0., 0., 0., 0., 0.])"
            ]
          },
          "metadata": {},
          "execution_count": 33
        }
      ]
    },
    {
      "cell_type": "code",
      "execution_count": 47,
      "id": "a6f5934d",
      "metadata": {
        "id": "a6f5934d"
      },
      "outputs": [],
      "source": [
        "# Testing\n",
        "u = np.array([1,4,9,16,25])\n",
        "unew = np.zeros(5)\n",
        "unew[1:-1] = u[2:] -2*u[1:-1] + u[:-2]"
      ]
    },
    {
      "cell_type": "code",
      "source": [
        "u[:-2]"
      ],
      "metadata": {
        "id": "gl3LeknBUzHm",
        "outputId": "b261efd2-e898-481d-ed70-be6ac5e36884",
        "colab": {
          "base_uri": "https://localhost:8080/"
        }
      },
      "id": "gl3LeknBUzHm",
      "execution_count": 48,
      "outputs": [
        {
          "output_type": "execute_result",
          "data": {
            "text/plain": [
              "array([1, 4, 9])"
            ]
          },
          "metadata": {},
          "execution_count": 48
        }
      ]
    },
    {
      "cell_type": "code",
      "source": [
        "a = 1.0\n",
        "dx = 1.0\n",
        "\n",
        "def f_1D(t,u):\n",
        "    unew = np.zeros(len(u))\n",
        "    unew[1:-1] = u[2:] - 2*u[1:-1] + u[:-2]\n",
        "    return unew * a/dx**2"
      ],
      "metadata": {
        "id": "-ltaJccKRjgf"
      },
      "id": "-ltaJccKRjgf",
      "execution_count": 49,
      "outputs": []
    },
    {
      "cell_type": "code",
      "source": [
        "tStart = 0\n",
        "tEnd = 5000\n",
        "\n",
        "size = 100\n",
        "u0 = np.zeros([size])\n",
        "u0[0] = 1\n",
        "\n",
        "solution = integrate.solve_ivp(f_1D, [tStart, tEnd], u0, method = 'RK45', t_eval = np.linspace(tStart,tEnd,10001))"
      ],
      "metadata": {
        "id": "z_DBMHQJS9in"
      },
      "id": "z_DBMHQJS9in",
      "execution_count": 53,
      "outputs": []
    },
    {
      "cell_type": "code",
      "source": [
        "index = size//2\n",
        "\n",
        "plt.xlabel(\"Time t\")\n",
        "plt.ylabel(\"Temperature for cell #\" + str(index))\n",
        "\n",
        "plt.plot(solution.t, solution.y[size//2])"
      ],
      "metadata": {
        "id": "ZowVKyL0XT1s",
        "outputId": "ce7c4f82-098d-4166-a45a-78ccef053379",
        "colab": {
          "base_uri": "https://localhost:8080/",
          "height": 296
        }
      },
      "id": "ZowVKyL0XT1s",
      "execution_count": 54,
      "outputs": [
        {
          "output_type": "execute_result",
          "data": {
            "text/plain": [
              "[<matplotlib.lines.Line2D at 0x7fb66cdddad0>]"
            ]
          },
          "metadata": {},
          "execution_count": 54
        },
        {
          "output_type": "display_data",
          "data": {
            "text/plain": [
              "<Figure size 432x288 with 1 Axes>"
            ],
            "image/png": "[encoded data removed]"
          },
          "metadata": {
            "needs_background": "light"
          }
        }
      ]
    },
    {
      "cell_type": "code",
      "source": [
        "t_list, x_list = np.meshgrid(solution.t, np.arange(size))\n",
        "\n",
        "plt.xlabel(\"Time t\")\n",
        "plt.ylabel(\"Coordinate\")\n",
        "\n",
        "plt.contourf(t_list, x_list, solution.y)\n",
        "plt.colorbar()"
      ],
      "metadata": {
        "id": "jtrGgu89dAfa",
        "outputId": "4c2599c2-1cd4-4d55-8a4d-91a774103354",
        "colab": {
          "base_uri": "https://localhost:8080/",
          "height": 300
        }
      },
      "id": "jtrGgu89dAfa",
      "execution_count": 57,
      "outputs": [
        {
          "output_type": "execute_result",
          "data": {
            "text/plain": [
              "<matplotlib.colorbar.Colorbar at 0x7fb66c9cdd10>"
            ]
          },
          "metadata": {},
          "execution_count": 57
        },
        {
          "output_type": "display_data",
          "data": {
            "text/plain": [
              "<Figure size 432x288 with 2 Axes>"
            ],
            "image/png": "[encoded data removed]"
          },
          "metadata": {
            "needs_background": "light"
          }
        }
      ]
    },
    {
      "cell_type": "code",
      "source": [],
      "metadata": {
        "id": "_wTBgfuHdAFR"
      },
      "id": "_wTBgfuHdAFR",
      "execution_count": null,
      "outputs": []
    },
    {
      "cell_type": "markdown",
      "id": "1a95b3a3",
      "metadata": {
        "id": "1a95b3a3"
      },
      "source": [
        "### Different starting parameters"
      ]
    },
    {
      "cell_type": "code",
      "execution_count": null,
      "id": "0e62f363",
      "metadata": {
        "id": "0e62f363"
      },
      "outputs": [],
      "source": []
    },
    {
      "cell_type": "markdown",
      "id": "81519a01",
      "metadata": {
        "id": "81519a01"
      },
      "source": [
        "## In 2 dimensions"
      ]
    },
    {
      "cell_type": "markdown",
      "id": "46cfdb1d",
      "metadata": {
        "id": "46cfdb1d"
      },
      "source": [
        "\\begin{equation}  \n",
        "\\frac{\\partial}{\\partial t} u(\\vec{r},t) = a \\left(\\frac{\\partial^2}{\\partial x^2} u(\\vec{r},t) + \\frac{\\partial^2}{\\partial y^2} u(\\vec{r},t)\\right)\n",
        "\\end{equation}\n",
        "\n",
        "Here, \\\\( u(\\vec{r},t) \\\\) is an array \\\\(\\{ u_{1,1}, u_{1,2}, \\dots, u_{n,n} \\} \\\\) that has different values for different times. We can discretize the spatial derivative according to:\n",
        "\n",
        "\\begin{equation} \n",
        "\\frac{\\partial^2}{\\partial x^2} u_{i,j} + \\frac{\\partial^2}{\\partial y^2} u_{i,j} = \\frac{u_{i+1,j}-2u_{i,j}+u_{i-1,j}}{(\\Delta x)^2}+\\frac{u_{i,j+1}-2u_{i,j}+u_{i,j-1}}{(\\Delta y)^2}\n",
        "\\end{equation}"
      ]
    },
    {
      "cell_type": "code",
      "execution_count": null,
      "id": "fb56f75e",
      "metadata": {
        "id": "fb56f75e"
      },
      "outputs": [],
      "source": []
    },
    {
      "cell_type": "markdown",
      "id": "afb7489d",
      "metadata": {
        "id": "afb7489d"
      },
      "source": [
        "### Different starting conditions"
      ]
    },
    {
      "cell_type": "code",
      "execution_count": null,
      "id": "bd6f4fac",
      "metadata": {
        "id": "bd6f4fac"
      },
      "outputs": [],
      "source": []
    }
  ],
  "metadata": {
    "kernelspec": {
      "display_name": "Python 3 (ipykernel)",
      "language": "python",
      "name": "python3"
    },
    "language_info": {
      "codemirror_mode": {
        "name": "ipython",
        "version": 3
      },
      "file_extension": ".py",
      "mimetype": "text/x-python",
      "name": "python",
      "nbconvert_exporter": "python",
      "pygments_lexer": "ipython3",
      "version": "3.9.7"
    },
    "colab": {
      "provenance": [],
      "collapsed_sections": [],
      "include_colab_link": true
    }
  },
  "nbformat": 4,
  "nbformat_minor": 5
}