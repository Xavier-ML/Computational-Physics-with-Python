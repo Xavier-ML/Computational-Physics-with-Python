{
  "cells": [
    {
      "cell_type": "markdown",
      "metadata": {
        "id": "view-in-github",
        "colab_type": "text"
      },
      "source": [
        "<a href=\"https://colab.research.google.com/github/Xavier-ML/Computational-Physics-with-Python/blob/main/06_Differential_equations_template.ipynb\" target=\"_parent\"><img src=\"https://colab.research.google.com/assets/colab-badge.svg\" alt=\"Open In Colab\"/></a>"
      ]
    },
    {
      "cell_type": "markdown",
      "id": "0b88f670",
      "metadata": {
        "id": "0b88f670"
      },
      "source": [
        "# Solving differential equations\n",
        "\n",
        "- by Börge Göbel"
      ]
    },
    {
      "cell_type": "markdown",
      "id": "7ed1b45a",
      "metadata": {
        "id": "7ed1b45a"
      },
      "source": [
        "## 1. Euler method"
      ]
    },
    {
      "cell_type": "markdown",
      "id": "86b7b82b",
      "metadata": {
        "id": "86b7b82b"
      },
      "source": [
        "## 1.1 First order differential equation"
      ]
    },
    {
      "cell_type": "markdown",
      "id": "e05912fb",
      "metadata": {
        "id": "e05912fb"
      },
      "source": [
        "We try to solve the following type of differential equation\n",
        "\n",
        "\\\\( \\frac{\\mathrm{d}y}{\\mathrm{d}t} = f(t,y)\\\\)"
      ]
    },
    {
      "cell_type": "markdown",
      "id": "0127bce0",
      "metadata": {
        "id": "0127bce0"
      },
      "source": [
        "Since \\\\( \\frac{\\mathrm{d}y}{\\mathrm{d}t} = \\frac{y(t+h)-y(t)}{h}\\\\), we know that \\\\( y(t+h) = \\frac{\\mathrm{d}y}{\\mathrm{d}t}h + y(t)\\\\).\n",
        "\n",
        "Therefore, we can repetitively iterate the propagation: \n",
        "\n",
        "From the value \\\\( y_n \\\\) at step \\\\( n \\\\), corresponding to the time \\\\( t \\\\), we can calculate the value \\\\( y_{n+1} \\\\) at step \\\\( (n+1) \\\\), corresponding to the time \\\\( (t+h) \\\\):\n",
        "\n",
        "\\\\( y_{n+1} = y_n + \\frac{\\mathrm{d}y}{\\mathrm{d}t}h \\\\) which is \n",
        "\n",
        "\\\\( y_{n+1} = y_n + f(t,y_n) h \\\\)"
      ]
    },
    {
      "cell_type": "markdown",
      "id": "eaf63e10",
      "metadata": {
        "id": "eaf63e10"
      },
      "source": [
        "### Example 1) Radioactive decay"
      ]
    },
    {
      "cell_type": "markdown",
      "id": "82db4e00",
      "metadata": {
        "id": "82db4e00"
      },
      "source": [
        "\\\\( \\dot{y} = -y\\\\) or\n",
        "\n",
        "\\\\( \\frac{\\mathrm{d}y}{\\mathrm{d}t} = f(t,y) = -y\\\\)\n",
        "\n",
        "Analytical solution: \\\\( y(t)=y_0 \\exp(-t)\\\\)"
      ]
    },
    {
      "cell_type": "code",
      "execution_count": 27,
      "id": "0ae494cb",
      "metadata": {
        "id": "0ae494cb"
      },
      "outputs": [],
      "source": [
        "import numpy as np\n",
        "from scipy import integrate\n",
        "import matplotlib.pyplot as plt "
      ]
    },
    {
      "cell_type": "code",
      "execution_count": 28,
      "id": "ccd3a0f0",
      "metadata": {
        "id": "ccd3a0f0"
      },
      "outputs": [],
      "source": [
        "#Starting value\n",
        "y = 1\n",
        "\n",
        "# Number of iterations\n",
        "nmax = 20\n",
        "\n",
        "# stepsize\n",
        "h = 0.1\n",
        "\n",
        "# collect data\n",
        "t_values = [0]\n",
        "y_values = [y]"
      ]
    },
    {
      "cell_type": "code",
      "source": [
        "for i in range(1,nmax+1):\n",
        "    f = -y\n",
        "    y = y + f*h\n",
        "    t_values.append(i*h)\n",
        "    y_values.append(y)"
      ],
      "metadata": {
        "id": "SGd59uA97Jqa"
      },
      "id": "SGd59uA97Jqa",
      "execution_count": 29,
      "outputs": []
    },
    {
      "cell_type": "code",
      "source": [
        "t_values"
      ],
      "metadata": {
        "colab": {
          "base_uri": "https://localhost:8080/"
        },
        "id": "ZiQF3NytxUii",
        "outputId": "d7ab5e28-b92c-4bdc-9c13-d34f0387877b"
      },
      "id": "ZiQF3NytxUii",
      "execution_count": 30,
      "outputs": [
        {
          "output_type": "execute_result",
          "data": {
            "text/plain": [
              "[0,\n",
              " 0.1,\n",
              " 0.2,\n",
              " 0.30000000000000004,\n",
              " 0.4,\n",
              " 0.5,\n",
              " 0.6000000000000001,\n",
              " 0.7000000000000001,\n",
              " 0.8,\n",
              " 0.9,\n",
              " 1.0,\n",
              " 1.1,\n",
              " 1.2000000000000002,\n",
              " 1.3,\n",
              " 1.4000000000000001,\n",
              " 1.5,\n",
              " 1.6,\n",
              " 1.7000000000000002,\n",
              " 1.8,\n",
              " 1.9000000000000001,\n",
              " 2.0]"
            ]
          },
          "metadata": {},
          "execution_count": 30
        }
      ]
    },
    {
      "cell_type": "code",
      "source": [
        "test_t = np.linspace(0, nmax*h, nmax)\n",
        "test_y = 1*np.exp(-test_t)\n",
        "plt.plot(test_t, test_y, \"red\")\n",
        "\n",
        "plt.xlabel(\"t\")\n",
        "plt.ylabel(\"y\")\n",
        "plt.scatter(t_values, y_values)"
      ],
      "metadata": {
        "colab": {
          "base_uri": "https://localhost:8080/",
          "height": 296
        },
        "id": "uCIcMASSzxzE",
        "outputId": "44bd73ca-dccc-47fe-da4a-abfd92b29878"
      },
      "id": "uCIcMASSzxzE",
      "execution_count": 31,
      "outputs": [
        {
          "output_type": "execute_result",
          "data": {
            "text/plain": [
              "<matplotlib.collections.PathCollection at 0x7f8a1d112910>"
            ]
          },
          "metadata": {},
          "execution_count": 31
        },
        {
          "output_type": "display_data",
          "data": {
            "text/plain": [
              "<Figure size 432x288 with 1 Axes>"
            ],
            "image/png": "[encoded data removed]"
          },
          "metadata": {
            "needs_background": "light"
          }
        }
      ]
    },
    {
      "cell_type": "code",
      "source": [
        "y"
      ],
      "metadata": {
        "colab": {
          "base_uri": "https://localhost:8080/"
        },
        "id": "Ew-HtJEqvwbB",
        "outputId": "f82f1c33-c2de-4fbe-f5fe-7e00a7184c84"
      },
      "id": "Ew-HtJEqvwbB",
      "execution_count": 32,
      "outputs": [
        {
          "output_type": "execute_result",
          "data": {
            "text/plain": [
              "0.12157665459056928"
            ]
          },
          "metadata": {},
          "execution_count": 32
        }
      ]
    },
    {
      "cell_type": "code",
      "source": [
        "np.exp(-nmax*h)"
      ],
      "metadata": {
        "colab": {
          "base_uri": "https://localhost:8080/"
        },
        "id": "pl-pXRvWvxcJ",
        "outputId": "9213865f-cf95-4bd0-d844-98c1c8ab05b0"
      },
      "id": "pl-pXRvWvxcJ",
      "execution_count": 33,
      "outputs": [
        {
          "output_type": "execute_result",
          "data": {
            "text/plain": [
              "0.1353352832366127"
            ]
          },
          "metadata": {},
          "execution_count": 33
        }
      ]
    },
    {
      "cell_type": "markdown",
      "id": "5af1c96a",
      "metadata": {
        "id": "5af1c96a"
      },
      "source": [
        "### Define a function \"eulerODE\""
      ]
    },
    {
      "cell_type": "code",
      "execution_count": 76,
      "id": "4753714b",
      "metadata": {
        "id": "4753714b"
      },
      "outputs": [],
      "source": [
        "def eulerODE(f,t0,y0,nmax,h):\n",
        "    # f: Function\n",
        "    # t0: Stanting time\n",
        "    # y0: Stanting value of y\n",
        "    # nmax: Number of iteration\n",
        "    # h: stepsize\n",
        "    y = y0\n",
        "    t = t0\n",
        "    t_values = [0]\n",
        "    y_values = [y]\n",
        "    for i in range(1,nmax+1):\n",
        "        y = y + f(t,y)*h\n",
        "        t = t + h\n",
        "        t_values.append(t)\n",
        "        y_values.append(y)\n",
        "    return np.array([t_values, y_values])"
      ]
    },
    {
      "cell_type": "code",
      "source": [
        "#Define function\n",
        "def f_ODE(t,y):\n",
        "    return -y\n",
        "\n",
        "#Call Euler method\n",
        "t0 = 0\n",
        "y0 = 1\n",
        "nmax = 200\n",
        "h = 0.01\n",
        "solution = eulerODE(f_ODE,t0,y0,nmax,h)"
      ],
      "metadata": {
        "id": "sXQAAPOD48QF"
      },
      "id": "sXQAAPOD48QF",
      "execution_count": 77,
      "outputs": []
    },
    {
      "cell_type": "code",
      "source": [
        "solution"
      ],
      "metadata": {
        "colab": {
          "base_uri": "https://localhost:8080/"
        },
        "id": "muduhaGkEKyK",
        "outputId": "1c9a063b-f2c1-40c8-d249-d7eb0b103f28"
      },
      "id": "muduhaGkEKyK",
      "execution_count": 78,
      "outputs": [
        {
          "output_type": "execute_result",
          "data": {
            "text/plain": [
              "array([[0.        , 0.01      , 0.02      , 0.03      , 0.04      ,\n",
              "        0.05      , 0.06      , 0.07      , 0.08      , 0.09      ,\n",
              "        0.1       , 0.11      , 0.12      , 0.13      , 0.14      ,\n",
              "        0.15      , 0.16      , 0.17      , 0.18      , 0.19      ,\n",
              "        0.2       , 0.21      , 0.22      , 0.23      , 0.24      ,\n",
              "        0.25      , 0.26      , 0.27      , 0.28      , 0.29      ,\n",
              "        0.3       , 0.31      , 0.32      , 0.33      , 0.34      ,\n",
              "        0.35      , 0.36      , 0.37      , 0.38      , 0.39      ,\n",
              "        0.4       , 0.41      , 0.42      , 0.43      , 0.44      ,\n",
              "        0.45      , 0.46      , 0.47      , 0.48      , 0.49      ,\n",
              "        0.5       , 0.51      , 0.52      , 0.53      , 0.54      ,\n",
              "        0.55      , 0.56      , 0.57      , 0.58      , 0.59      ,\n",
              "        0.6       , 0.61      , 0.62      , 0.63      , 0.64      ,\n",
              "        0.65      , 0.66      , 0.67      , 0.68      , 0.69      ,\n",
              "        0.7       , 0.71      , 0.72      , 0.73      , 0.74      ,\n",
              "        0.75      , 0.76      , 0.77      , 0.78      , 0.79      ,\n",
              "        0.8       , 0.81      , 0.82      , 0.83      , 0.84      ,\n",
              "        0.85      , 0.86      , 0.87      , 0.88      , 0.89      ,\n",
              "        0.9       , 0.91      , 0.92      , 0.93      , 0.94      ,\n",
              "        0.95      , 0.96      , 0.97      , 0.98      , 0.99      ,\n",
              "        1.        , 1.01      , 1.02      , 1.03      , 1.04      ,\n",
              "        1.05      , 1.06      , 1.07      , 1.08      , 1.09      ,\n",
              "        1.1       , 1.11      , 1.12      , 1.13      , 1.14      ,\n",
              "        1.15      , 1.16      , 1.17      , 1.18      , 1.19      ,\n",
              "        1.2       , 1.21      , 1.22      , 1.23      , 1.24      ,\n",
              "        1.25      , 1.26      , 1.27      , 1.28      , 1.29      ,\n",
              "        1.3       , 1.31      , 1.32      , 1.33      , 1.34      ,\n",
              "        1.35      , 1.36      , 1.37      , 1.38      , 1.39      ,\n",
              "        1.4       , 1.41      , 1.42      , 1.43      , 1.44      ,\n",
              "        1.45      , 1.46      , 1.47      , 1.48      , 1.49      ,\n",
              "        1.5       , 1.51      , 1.52      , 1.53      , 1.54      ,\n",
              "        1.55      , 1.56      , 1.57      , 1.58      , 1.59      ,\n",
              "        1.6       , 1.61      , 1.62      , 1.63      , 1.64      ,\n",
              "        1.65      , 1.66      , 1.67      , 1.68      , 1.69      ,\n",
              "        1.7       , 1.71      , 1.72      , 1.73      , 1.74      ,\n",
              "        1.75      , 1.76      , 1.77      , 1.78      , 1.79      ,\n",
              "        1.8       , 1.81      , 1.82      , 1.83      , 1.84      ,\n",
              "        1.85      , 1.86      , 1.87      , 1.88      , 1.89      ,\n",
              "        1.9       , 1.91      , 1.92      , 1.93      , 1.94      ,\n",
              "        1.95      , 1.96      , 1.97      , 1.98      , 1.99      ,\n",
              "        2.        ],\n",
              "       [1.        , 0.99      , 0.9801    , 0.970299  , 0.96059601,\n",
              "        0.95099005, 0.94148015, 0.93206535, 0.92274469, 0.91351725,\n",
              "        0.90438208, 0.89533825, 0.88638487, 0.87752102, 0.86874581,\n",
              "        0.86005835, 0.85145777, 0.84294319, 0.83451376, 0.82616862,\n",
              "        0.81790694, 0.80972787, 0.80163059, 0.79361428, 0.78567814,\n",
              "        0.77782136, 0.77004315, 0.76234271, 0.75471929, 0.74717209,\n",
              "        0.73970037, 0.73230337, 0.72498034, 0.71773053, 0.71055323,\n",
              "        0.70344769, 0.69641322, 0.68944909, 0.6825546 , 0.67572905,\n",
              "        0.66897176, 0.66228204, 0.65565922, 0.64910263, 0.6426116 ,\n",
              "        0.63618549, 0.62982363, 0.62352539, 0.61729014, 0.61111724,\n",
              "        0.60500607, 0.59895601, 0.59296645, 0.58703678, 0.58116641,\n",
              "        0.57535475, 0.5696012 , 0.56390519, 0.55826614, 0.55268348,\n",
              "        0.54715664, 0.54168508, 0.53626823, 0.53090554, 0.52559649,\n",
              "        0.52034052, 0.51513712, 0.50998575, 0.50488589, 0.49983703,\n",
              "        0.49483866, 0.48989027, 0.48499137, 0.48014146, 0.47534004,\n",
              "        0.47058664, 0.46588078, 0.46122197, 0.45660975, 0.45204365,\n",
              "        0.44752321, 0.44304798, 0.4386175 , 0.43423133, 0.42988901,\n",
              "        0.42559012, 0.42133422, 0.41712088, 0.41294967, 0.40882017,\n",
              "        0.40473197, 0.40068465, 0.39667781, 0.39271103, 0.38878392,\n",
              "        0.38489608, 0.38104712, 0.37723665, 0.37346428, 0.36972964,\n",
              "        0.36603234, 0.36237202, 0.3587483 , 0.35516081, 0.35160921,\n",
              "        0.34809311, 0.34461218, 0.34116606, 0.3377544 , 0.33437686,\n",
              "        0.33103309, 0.32772276, 0.32444553, 0.32120107, 0.31798906,\n",
              "        0.31480917, 0.31166108, 0.30854447, 0.30545903, 0.30240444,\n",
              "        0.29938039, 0.29638659, 0.29342272, 0.29048849, 0.28758361,\n",
              "        0.28470777, 0.2818607 , 0.27904209, 0.27625167, 0.27348915,\n",
              "        0.27075426, 0.26804672, 0.26536625, 0.26271259, 0.26008546,\n",
              "        0.25748461, 0.25490976, 0.25236066, 0.24983706, 0.24733869,\n",
              "        0.2448653 , 0.24241665, 0.23999248, 0.23759255, 0.23521663,\n",
              "        0.23286446, 0.23053582, 0.22823046, 0.22594816, 0.22368867,\n",
              "        0.22145179, 0.21923727, 0.2170449 , 0.21487445, 0.2127257 ,\n",
              "        0.21059845, 0.20849246, 0.20640754, 0.20434346, 0.20230003,\n",
              "        0.20027703, 0.19827426, 0.19629151, 0.1943286 , 0.19238531,\n",
              "        0.19046146, 0.18855685, 0.18667128, 0.18480456, 0.18295652,\n",
              "        0.18112695, 0.17931568, 0.17752253, 0.1757473 , 0.17398983,\n",
              "        0.17224993, 0.17052743, 0.16882216, 0.16713394, 0.1654626 ,\n",
              "        0.16380797, 0.16216989, 0.16054819, 0.15894271, 0.15735328,\n",
              "        0.15577975, 0.15422195, 0.15267973, 0.15115293, 0.14964141,\n",
              "        0.14814499, 0.14666354, 0.14519691, 0.14374494, 0.14230749,\n",
              "        0.14088441, 0.13947557, 0.13808081, 0.1367    , 0.135333  ,\n",
              "        0.13397967]])"
            ]
          },
          "metadata": {},
          "execution_count": 78
        }
      ]
    },
    {
      "cell_type": "code",
      "source": [
        "test_t = np.linspace(0, nmax*h, nmax)\n",
        "test_y = 1*np.exp(-test_t)\n",
        "plt.plot(test_t, test_y, \"red\")\n",
        "\n",
        "plt.xlabel(\"t\")\n",
        "plt.ylabel(\"y\")\n",
        "plt.scatter(solution[0], solution[1])"
      ],
      "metadata": {
        "colab": {
          "base_uri": "https://localhost:8080/",
          "height": 296
        },
        "id": "-_F1TQV97Y8v",
        "outputId": "403d1e97-f005-4618-fbf4-2d7eb45bac1b"
      },
      "id": "-_F1TQV97Y8v",
      "execution_count": 79,
      "outputs": [
        {
          "output_type": "execute_result",
          "data": {
            "text/plain": [
              "<matplotlib.collections.PathCollection at 0x7f8a1bb9bfd0>"
            ]
          },
          "metadata": {},
          "execution_count": 79
        },
        {
          "output_type": "display_data",
          "data": {
            "text/plain": [
              "<Figure size 432x288 with 1 Axes>"
            ],
            "image/png": "[encoded data removed]"
          },
          "metadata": {
            "needs_background": "light"
          }
        }
      ]
    },
    {
      "cell_type": "markdown",
      "id": "b51cca27",
      "metadata": {
        "id": "b51cca27"
      },
      "source": [
        "### Example 2) Time-amplified decay"
      ]
    },
    {
      "cell_type": "markdown",
      "id": "89295289",
      "metadata": {
        "id": "89295289"
      },
      "source": [
        "\\\\( \\dot{y} = -ayt\\\\) or\n",
        "\n",
        "\\\\( \\frac{\\mathrm{d}y}{\\mathrm{d}t} = f(t,y) = -ayt\\\\)\n",
        "\n",
        "Analytical solution: \\\\( y(t)=y_0 \\exp(-t^2a/2)\\\\)"
      ]
    },
    {
      "cell_type": "code",
      "source": [
        "a = 0.01\n",
        "\n",
        "#Define function\n",
        "def f_ODE1(t,y):\n",
        "    return -a*y*t\n",
        "\n",
        "#Call Euler method\n",
        "t0 = 0\n",
        "y0 = 1\n",
        "nmax = 300\n",
        "h = 0.1\n",
        "solution2 = eulerODE(f_ODE1,t0,y0,nmax,h)"
      ],
      "metadata": {
        "id": "OtdrmvK3-R5I"
      },
      "id": "OtdrmvK3-R5I",
      "execution_count": 80,
      "outputs": []
    },
    {
      "cell_type": "code",
      "source": [
        "\n",
        "solution2"
      ],
      "metadata": {
        "colab": {
          "base_uri": "https://localhost:8080/"
        },
        "id": "5oR-zqNVDF4J",
        "outputId": "f4d2c5b4-4087-4fb9-edce-36f2492dc052"
      },
      "id": "5oR-zqNVDF4J",
      "execution_count": 81,
      "outputs": [
        {
          "output_type": "execute_result",
          "data": {
            "text/plain": [
              "array([[0.00000000e+00, 1.00000000e-01, 2.00000000e-01, 3.00000000e-01,\n",
              "        4.00000000e-01, 5.00000000e-01, 6.00000000e-01, 7.00000000e-01,\n",
              "        8.00000000e-01, 9.00000000e-01, 1.00000000e+00, 1.10000000e+00,\n",
              "        1.20000000e+00, 1.30000000e+00, 1.40000000e+00, 1.50000000e+00,\n",
              "        1.60000000e+00, 1.70000000e+00, 1.80000000e+00, 1.90000000e+00,\n",
              "        2.00000000e+00, 2.10000000e+00, 2.20000000e+00, 2.30000000e+00,\n",
              "        2.40000000e+00, 2.50000000e+00, 2.60000000e+00, 2.70000000e+00,\n",
              "        2.80000000e+00, 2.90000000e+00, 3.00000000e+00, 3.10000000e+00,\n",
              "        3.20000000e+00, 3.30000000e+00, 3.40000000e+00, 3.50000000e+00,\n",
              "        3.60000000e+00, 3.70000000e+00, 3.80000000e+00, 3.90000000e+00,\n",
              "        4.00000000e+00, 4.10000000e+00, 4.20000000e+00, 4.30000000e+00,\n",
              "        4.40000000e+00, 4.50000000e+00, 4.60000000e+00, 4.70000000e+00,\n",
              "        4.80000000e+00, 4.90000000e+00, 5.00000000e+00, 5.10000000e+00,\n",
              "        5.20000000e+00, 5.30000000e+00, 5.40000000e+00, 5.50000000e+00,\n",
              "        5.60000000e+00, 5.70000000e+00, 5.80000000e+00, 5.90000000e+00,\n",
              "        6.00000000e+00, 6.10000000e+00, 6.20000000e+00, 6.30000000e+00,\n",
              "        6.40000000e+00, 6.50000000e+00, 6.60000000e+00, 6.70000000e+00,\n",
              "        6.80000000e+00, 6.90000000e+00, 7.00000000e+00, 7.10000000e+00,\n",
              "        7.20000000e+00, 7.30000000e+00, 7.40000000e+00, 7.50000000e+00,\n",
              "        7.60000000e+00, 7.70000000e+00, 7.80000000e+00, 7.90000000e+00,\n",
              "        8.00000000e+00, 8.10000000e+00, 8.20000000e+00, 8.30000000e+00,\n",
              "        8.40000000e+00, 8.50000000e+00, 8.60000000e+00, 8.70000000e+00,\n",
              "        8.80000000e+00, 8.90000000e+00, 9.00000000e+00, 9.10000000e+00,\n",
              "        9.20000000e+00, 9.30000000e+00, 9.40000000e+00, 9.50000000e+00,\n",
              "        9.60000000e+00, 9.70000000e+00, 9.80000000e+00, 9.90000000e+00,\n",
              "        1.00000000e+01, 1.01000000e+01, 1.02000000e+01, 1.03000000e+01,\n",
              "        1.04000000e+01, 1.05000000e+01, 1.06000000e+01, 1.07000000e+01,\n",
              "        1.08000000e+01, 1.09000000e+01, 1.10000000e+01, 1.11000000e+01,\n",
              "        1.12000000e+01, 1.13000000e+01, 1.14000000e+01, 1.15000000e+01,\n",
              "        1.16000000e+01, 1.17000000e+01, 1.18000000e+01, 1.19000000e+01,\n",
              "        1.20000000e+01, 1.21000000e+01, 1.22000000e+01, 1.23000000e+01,\n",
              "        1.24000000e+01, 1.25000000e+01, 1.26000000e+01, 1.27000000e+01,\n",
              "        1.28000000e+01, 1.29000000e+01, 1.30000000e+01, 1.31000000e+01,\n",
              "        1.32000000e+01, 1.33000000e+01, 1.34000000e+01, 1.35000000e+01,\n",
              "        1.36000000e+01, 1.37000000e+01, 1.38000000e+01, 1.39000000e+01,\n",
              "        1.40000000e+01, 1.41000000e+01, 1.42000000e+01, 1.43000000e+01,\n",
              "        1.44000000e+01, 1.45000000e+01, 1.46000000e+01, 1.47000000e+01,\n",
              "        1.48000000e+01, 1.49000000e+01, 1.50000000e+01, 1.51000000e+01,\n",
              "        1.52000000e+01, 1.53000000e+01, 1.54000000e+01, 1.55000000e+01,\n",
              "        1.56000000e+01, 1.57000000e+01, 1.58000000e+01, 1.59000000e+01,\n",
              "        1.60000000e+01, 1.61000000e+01, 1.62000000e+01, 1.63000000e+01,\n",
              "        1.64000000e+01, 1.65000000e+01, 1.66000000e+01, 1.67000000e+01,\n",
              "        1.68000000e+01, 1.69000000e+01, 1.70000000e+01, 1.71000000e+01,\n",
              "        1.72000000e+01, 1.73000000e+01, 1.74000000e+01, 1.75000000e+01,\n",
              "        1.76000000e+01, 1.77000000e+01, 1.78000000e+01, 1.79000000e+01,\n",
              "        1.80000000e+01, 1.81000000e+01, 1.82000000e+01, 1.83000000e+01,\n",
              "        1.84000000e+01, 1.85000000e+01, 1.86000000e+01, 1.87000000e+01,\n",
              "        1.88000000e+01, 1.89000000e+01, 1.90000000e+01, 1.91000000e+01,\n",
              "        1.92000000e+01, 1.93000000e+01, 1.94000000e+01, 1.95000000e+01,\n",
              "        1.96000000e+01, 1.97000000e+01, 1.98000000e+01, 1.99000000e+01,\n",
              "        2.00000000e+01, 2.01000000e+01, 2.02000000e+01, 2.03000000e+01,\n",
              "        2.04000000e+01, 2.05000000e+01, 2.06000000e+01, 2.07000000e+01,\n",
              "        2.08000000e+01, 2.09000000e+01, 2.10000000e+01, 2.11000000e+01,\n",
              "        2.12000000e+01, 2.13000000e+01, 2.14000000e+01, 2.15000000e+01,\n",
              "        2.16000000e+01, 2.17000000e+01, 2.18000000e+01, 2.19000000e+01,\n",
              "        2.20000000e+01, 2.21000000e+01, 2.22000000e+01, 2.23000000e+01,\n",
              "        2.24000000e+01, 2.25000000e+01, 2.26000000e+01, 2.27000000e+01,\n",
              "        2.28000000e+01, 2.29000000e+01, 2.30000000e+01, 2.31000000e+01,\n",
              "        2.32000000e+01, 2.33000000e+01, 2.34000000e+01, 2.35000000e+01,\n",
              "        2.36000000e+01, 2.37000000e+01, 2.38000000e+01, 2.39000000e+01,\n",
              "        2.40000000e+01, 2.41000000e+01, 2.42000000e+01, 2.43000000e+01,\n",
              "        2.44000000e+01, 2.45000000e+01, 2.46000000e+01, 2.47000000e+01,\n",
              "        2.48000000e+01, 2.49000000e+01, 2.50000000e+01, 2.51000000e+01,\n",
              "        2.52000000e+01, 2.53000000e+01, 2.54000000e+01, 2.55000000e+01,\n",
              "        2.56000000e+01, 2.57000000e+01, 2.58000000e+01, 2.59000000e+01,\n",
              "        2.60000000e+01, 2.61000000e+01, 2.62000000e+01, 2.63000000e+01,\n",
              "        2.64000000e+01, 2.65000000e+01, 2.66000000e+01, 2.67000000e+01,\n",
              "        2.68000000e+01, 2.69000000e+01, 2.70000000e+01, 2.71000000e+01,\n",
              "        2.72000000e+01, 2.73000000e+01, 2.74000000e+01, 2.75000000e+01,\n",
              "        2.76000000e+01, 2.77000000e+01, 2.78000000e+01, 2.79000000e+01,\n",
              "        2.80000000e+01, 2.81000000e+01, 2.82000000e+01, 2.83000000e+01,\n",
              "        2.84000000e+01, 2.85000000e+01, 2.86000000e+01, 2.87000000e+01,\n",
              "        2.88000000e+01, 2.89000000e+01, 2.90000000e+01, 2.91000000e+01,\n",
              "        2.92000000e+01, 2.93000000e+01, 2.94000000e+01, 2.95000000e+01,\n",
              "        2.96000000e+01, 2.97000000e+01, 2.98000000e+01, 2.99000000e+01,\n",
              "        3.00000000e+01],\n",
              "       [1.00000000e+00, 1.00000000e+00, 9.99900000e-01, 9.99700020e-01,\n",
              "        9.99400110e-01, 9.99000350e-01, 9.98500850e-01, 9.97901749e-01,\n",
              "        9.97203218e-01, 9.96405455e-01, 9.95508691e-01, 9.94513182e-01,\n",
              "        9.93419217e-01, 9.92227114e-01, 9.90937219e-01, 9.89549907e-01,\n",
              "        9.88065582e-01, 9.86484677e-01, 9.84807653e-01, 9.83034999e-01,\n",
              "        9.81167233e-01, 9.79204898e-01, 9.77148568e-01, 9.74998841e-01,\n",
              "        9.72756344e-01, 9.70421729e-01, 9.67995674e-01, 9.65478886e-01,\n",
              "        9.62872093e-01, 9.60176051e-01, 9.57391540e-01, 9.54519366e-01,\n",
              "        9.51560356e-01, 9.48515363e-01, 9.45385262e-01, 9.42170952e-01,\n",
              "        9.38873354e-01, 9.35493410e-01, 9.32032084e-01, 9.28490362e-01,\n",
              "        9.24869250e-01, 9.21169773e-01, 9.17392976e-01, 9.13539926e-01,\n",
              "        9.09611704e-01, 9.05609413e-01, 9.01534170e-01, 8.97387113e-01,\n",
              "        8.93169394e-01, 8.88882181e-01, 8.84526658e-01, 8.80104025e-01,\n",
              "        8.75615494e-01, 8.71062294e-01, 8.66445664e-01, 8.61766857e-01,\n",
              "        8.57027139e-01, 8.52227787e-01, 8.47370089e-01, 8.42455342e-01,\n",
              "        8.37484856e-01, 8.32459947e-01, 8.27381941e-01, 8.22252173e-01,\n",
              "        8.17071984e-01, 8.11842724e-01, 8.06565746e-01, 8.01242412e-01,\n",
              "        7.95874088e-01, 7.90462144e-01, 7.85007955e-01, 7.79512900e-01,\n",
              "        7.73978358e-01, 7.68405714e-01, 7.62796352e-01, 7.57151659e-01,\n",
              "        7.51473022e-01, 7.45761827e-01, 7.40019461e-01, 7.34247309e-01,\n",
              "        7.28446755e-01, 7.22619181e-01, 7.16765966e-01, 7.10888485e-01,\n",
              "        7.04988110e-01, 6.99066210e-01, 6.93124147e-01, 6.87163280e-01,\n",
              "        6.81184959e-01, 6.75190532e-01, 6.69181336e-01, 6.63158704e-01,\n",
              "        6.57123960e-01, 6.51078419e-01, 6.45023390e-01, 6.38960170e-01,\n",
              "        6.32890048e-01, 6.26814304e-01, 6.20734205e-01, 6.14651010e-01,\n",
              "        6.08565965e-01, 6.02480305e-01, 5.96395254e-01, 5.90312023e-01,\n",
              "        5.84231809e-01, 5.78155798e-01, 5.72085162e-01, 5.66021059e-01,\n",
              "        5.59964634e-01, 5.53917016e-01, 5.47879321e-01, 5.41852648e-01,\n",
              "        5.35838084e-01, 5.29836697e-01, 5.23849542e-01, 5.17877658e-01,\n",
              "        5.11922065e-01, 5.05983769e-01, 5.00063759e-01, 4.94163006e-01,\n",
              "        4.88282466e-01, 4.82423077e-01, 4.76585758e-01, 4.70771411e-01,\n",
              "        4.64980923e-01, 4.59215160e-01, 4.53474970e-01, 4.47761185e-01,\n",
              "        4.42074618e-01, 4.36416063e-01, 4.30786296e-01, 4.25186074e-01,\n",
              "        4.19616137e-01, 4.14077204e-01, 4.08569977e-01, 4.03095139e-01,\n",
              "        3.97653355e-01, 3.92245269e-01, 3.86871509e-01, 3.81532682e-01,\n",
              "        3.76229378e-01, 3.70962167e-01, 3.65731600e-01, 3.60538211e-01,\n",
              "        3.55382515e-01, 3.50265007e-01, 3.45186164e-01, 3.40146446e-01,\n",
              "        3.35146293e-01, 3.30186128e-01, 3.25266355e-01, 3.20387359e-01,\n",
              "        3.15549510e-01, 3.10753158e-01, 3.05998634e-01, 3.01286256e-01,\n",
              "        2.96616319e-01, 2.91989104e-01, 2.87404875e-01, 2.82863878e-01,\n",
              "        2.78366342e-01, 2.73912481e-01, 2.69502490e-01, 2.65136550e-01,\n",
              "        2.60814824e-01, 2.56537461e-01, 2.52304593e-01, 2.48116336e-01,\n",
              "        2.43972794e-01, 2.39874051e-01, 2.35820179e-01, 2.31811236e-01,\n",
              "        2.27847264e-01, 2.23928291e-01, 2.20054332e-01, 2.16225386e-01,\n",
              "        2.12441442e-01, 2.08702473e-01, 2.05008439e-01, 2.01359289e-01,\n",
              "        1.97754957e-01, 1.94195368e-01, 1.90680432e-01, 1.87210048e-01,\n",
              "        1.83784104e-01, 1.80402477e-01, 1.77065031e-01, 1.73771621e-01,\n",
              "        1.70522092e-01, 1.67316277e-01, 1.64153999e-01, 1.61035073e-01,\n",
              "        1.57959303e-01, 1.54926485e-01, 1.51936403e-01, 1.48988837e-01,\n",
              "        1.46083555e-01, 1.43220317e-01, 1.40398877e-01, 1.37618979e-01,\n",
              "        1.34880361e-01, 1.32182754e-01, 1.29525881e-01, 1.26909458e-01,\n",
              "        1.24333196e-01, 1.21796799e-01, 1.19299965e-01, 1.16842385e-01,\n",
              "        1.14423748e-01, 1.12043734e-01, 1.09702020e-01, 1.07398277e-01,\n",
              "        1.05132174e-01, 1.02903372e-01, 1.00711530e-01, 9.85563032e-02,\n",
              "        9.64373426e-02, 9.43542960e-02, 9.23068078e-02, 9.02945194e-02,\n",
              "        8.83170694e-02, 8.63740939e-02, 8.44652264e-02, 8.25900984e-02,\n",
              "        8.07483392e-02, 7.89395764e-02, 7.71634359e-02, 7.54195423e-02,\n",
              "        7.37075187e-02, 7.20269873e-02, 7.03775692e-02, 6.87588852e-02,\n",
              "        6.71705549e-02, 6.56121980e-02, 6.40834338e-02, 6.25838815e-02,\n",
              "        6.11131603e-02, 5.96708897e-02, 5.82566896e-02, 5.68701804e-02,\n",
              "        5.55109831e-02, 5.41787195e-02, 5.28730123e-02, 5.15934854e-02,\n",
              "        5.03397637e-02, 4.91114735e-02, 4.79082424e-02, 4.67296996e-02,\n",
              "        4.55754761e-02, 4.44452043e-02, 4.33385187e-02, 4.22550557e-02,\n",
              "        4.11944538e-02, 4.01563536e-02, 3.91403978e-02, 3.81462317e-02,\n",
              "        3.71735028e-02, 3.62218611e-02, 3.52909593e-02, 3.43804526e-02,\n",
              "        3.34899988e-02, 3.26192589e-02, 3.17678962e-02, 3.09355773e-02,\n",
              "        3.01219716e-02, 2.93267516e-02, 2.85495927e-02, 2.77901735e-02,\n",
              "        2.70481759e-02, 2.63232848e-02, 2.56151884e-02, 2.49235783e-02,\n",
              "        2.42481493e-02, 2.35885997e-02, 2.29446309e-02, 2.23159480e-02,\n",
              "        2.17022595e-02, 2.11032771e-02, 2.05187163e-02, 1.99482960e-02,\n",
              "        1.93917385e-02, 1.88487699e-02, 1.83191194e-02, 1.78025203e-02,\n",
              "        1.72987089e-02, 1.68074256e-02, 1.63284140e-02, 1.58614213e-02,\n",
              "        1.54061985e-02, 1.49625000e-02, 1.45300838e-02, 1.41087113e-02,\n",
              "        1.36981478e-02, 1.32981619e-02, 1.29085258e-02, 1.25290151e-02,\n",
              "        1.21594092e-02, 1.17994907e-02, 1.14490458e-02, 1.11078642e-02,\n",
              "        1.07757391e-02]])"
            ]
          },
          "metadata": {},
          "execution_count": 81
        }
      ]
    },
    {
      "cell_type": "code",
      "execution_count": 82,
      "id": "3448bd17",
      "metadata": {
        "id": "3448bd17",
        "colab": {
          "base_uri": "https://localhost:8080/",
          "height": 296
        },
        "outputId": "f52465bc-c7ec-4660-e50a-e017fc9e321b"
      },
      "outputs": [
        {
          "output_type": "execute_result",
          "data": {
            "text/plain": [
              "<matplotlib.collections.PathCollection at 0x7f8a1cfde390>"
            ]
          },
          "metadata": {},
          "execution_count": 82
        },
        {
          "output_type": "display_data",
          "data": {
            "text/plain": [
              "<Figure size 432x288 with 1 Axes>"
            ],
            "image/png": "[encoded data removed]"
          },
          "metadata": {
            "needs_background": "light"
          }
        }
      ],
      "source": [
        "test_t = np.linspace(0, nmax*h, nmax)\n",
        "test_y = y0*np.exp(-test_t**2 *a/2)\n",
        "plt.plot(test_t, test_y, \"red\")\n",
        "\n",
        "plt.xlabel(\"t\")\n",
        "plt.ylabel(\"y\")\n",
        "plt.scatter(solution2[0], solution2[1])"
      ]
    },
    {
      "cell_type": "markdown",
      "id": "83b20246",
      "metadata": {
        "id": "83b20246"
      },
      "source": [
        "### 1.2 Higher-order differential equations"
      ]
    },
    {
      "cell_type": "markdown",
      "id": "44f1a8b2",
      "metadata": {
        "id": "44f1a8b2"
      },
      "source": [
        "Example: Second-order differential equation: \\\\( y''(t) = f\\left(t,y(t),y'(t)\\right)\\\\)\n",
        "\n",
        "Introduce: \\\\( z_0(t) = y(t)\\\\) and \\\\( z_1(t) = y'(t)\\\\)\n",
        "\n",
        "\\\\( \\begin{pmatrix}z_0'(t)\\\\z_1'(t)\\end{pmatrix}=\\begin{pmatrix}z_1(t)\\\\f\\left(t,z_0(t),z_1(t)\\right)\\end{pmatrix}\\\\)\n",
        "\n",
        "Therefore, we can describe the second-order differential equation by a set of two first-order differential equations. We can solve both with our Euler method\n",
        "\n",
        "\\\\( z_0^{(n+1)} = z_0^{(n)} + z_1^{(n)} h \\\\)\n",
        "\n",
        "\\\\( z_1^{(n+1)} = z_1^{(n)} + f\\left(t,z_0^{(n)},z_1^{(n)}\\right) h \\\\)\n",
        "\n",
        "Or, going back to our initial nomenclature:\n",
        "\n",
        "\\\\( y_{n+1} = y_{n} + y'_{n} h \\\\)\n",
        "\n",
        "\\\\( y'_{n+1} = y'_{n} + f\\left(t,y_{n},y'_{n}\\right) h \\\\)"
      ]
    },
    {
      "cell_type": "code",
      "execution_count": null,
      "id": "8c0de8cd",
      "metadata": {
        "id": "8c0de8cd"
      },
      "outputs": [],
      "source": [
        ""
      ]
    },
    {
      "cell_type": "markdown",
      "id": "e533b5c2",
      "metadata": {
        "id": "e533b5c2"
      },
      "source": [
        "### Example 3) Free fall"
      ]
    },
    {
      "cell_type": "markdown",
      "id": "4378cc6a",
      "metadata": {
        "id": "4378cc6a"
      },
      "source": [
        "\\\\( \\ddot{y} = -g\\\\) or\n",
        "\n",
        "\\\\( \\frac{\\mathrm{d}^2y}{\\mathrm{d}t^2} = f(t,y,\\dot{y}) = -g\\\\)\n",
        "\n",
        "Analytical solution: \\\\( y(t)=-\\frac{g}{2}t^2+v_0t+y_0\\\\)"
      ]
    },
    {
      "cell_type": "code",
      "execution_count": null,
      "id": "968e9392",
      "metadata": {
        "id": "968e9392"
      },
      "outputs": [],
      "source": [
        ""
      ]
    },
    {
      "cell_type": "markdown",
      "id": "13ec1509",
      "metadata": {
        "id": "13ec1509"
      },
      "source": [
        "### Example 4) Harmonic oscillator"
      ]
    },
    {
      "cell_type": "markdown",
      "id": "8174ec35",
      "metadata": {
        "id": "8174ec35"
      },
      "source": [
        "\\\\( \\theta''(t) + b\\theta'(t) + c\\sin(\\theta(t)) = 0 \\\\)\n",
        "\n",
        "Here, \\\\( b \\\\) is the damping parameter and \\\\( c \\\\) is determined by the pendulum length \\\\( c = \\frac{g}{l} \\\\)."
      ]
    },
    {
      "cell_type": "markdown",
      "id": "017fc71a",
      "metadata": {
        "id": "017fc71a"
      },
      "source": [
        "### Small-angle approximation\n",
        "\n",
        "For small angles \\\\( \\theta\\ll 1 \\\\) and without damping b = 0, we have \n",
        "\n",
        "\\\\( \\theta''(t) = - \\frac{g}{l}\\theta(t) \\\\) with the solution (for \\\\( \\theta'(0) = 0 \\\\))\n",
        "\n",
        "\\\\( \\theta(t) = \\theta_0\\cos\\left(\\sqrt{\\frac{g}{l}}t\\right) \\\\) and a period of \\\\( T = 2\\pi\\sqrt{\\frac{l}{g}} \\\\)"
      ]
    },
    {
      "cell_type": "code",
      "execution_count": null,
      "id": "dc04ebb9",
      "metadata": {
        "id": "dc04ebb9"
      },
      "outputs": [],
      "source": [
        ""
      ]
    },
    {
      "cell_type": "markdown",
      "id": "e00f08a4",
      "metadata": {
        "id": "e00f08a4"
      },
      "source": [
        "### Actual equation"
      ]
    },
    {
      "cell_type": "markdown",
      "id": "a50af7fa",
      "metadata": {
        "id": "a50af7fa"
      },
      "source": [
        "- Small starting angle"
      ]
    },
    {
      "cell_type": "code",
      "execution_count": null,
      "id": "ee045fd4",
      "metadata": {
        "id": "ee045fd4"
      },
      "outputs": [],
      "source": [
        ""
      ]
    },
    {
      "cell_type": "markdown",
      "id": "3757d0b4",
      "metadata": {
        "id": "3757d0b4"
      },
      "source": [
        "- Large starting angle"
      ]
    },
    {
      "cell_type": "code",
      "execution_count": null,
      "id": "4c4983b8",
      "metadata": {
        "id": "4c4983b8"
      },
      "outputs": [],
      "source": [
        ""
      ]
    },
    {
      "cell_type": "markdown",
      "id": "8d85c939",
      "metadata": {
        "id": "8d85c939"
      },
      "source": [
        "- With damping"
      ]
    },
    {
      "cell_type": "code",
      "execution_count": null,
      "id": "61b3a93d",
      "metadata": {
        "id": "61b3a93d"
      },
      "outputs": [],
      "source": [
        ""
      ]
    },
    {
      "cell_type": "markdown",
      "id": "5b0ef086",
      "metadata": {
        "id": "5b0ef086"
      },
      "source": [
        "- Driven oscillator"
      ]
    },
    {
      "cell_type": "code",
      "execution_count": null,
      "id": "747be128",
      "metadata": {
        "id": "747be128"
      },
      "outputs": [],
      "source": [
        ""
      ]
    },
    {
      "cell_type": "markdown",
      "id": "2c204ea4",
      "metadata": {
        "id": "2c204ea4"
      },
      "source": [
        "# 2. Improved methods"
      ]
    },
    {
      "cell_type": "markdown",
      "id": "05c4a7f2",
      "metadata": {
        "id": "05c4a7f2"
      },
      "source": [
        "The exist two useful solvers:\n",
        "- Old: scipy.integrate.oldeint\n",
        "- New: scipy.integrate.solve_ivp"
      ]
    },
    {
      "cell_type": "markdown",
      "id": "19a8d176",
      "metadata": {
        "id": "19a8d176"
      },
      "source": [
        "### Example 2) Time-amplified decay"
      ]
    },
    {
      "cell_type": "markdown",
      "id": "c16e98a1",
      "metadata": {
        "id": "c16e98a1"
      },
      "source": [
        "\\\\( \\dot{y} = -ayt\\\\) or\n",
        "\n",
        "\\\\( \\frac{\\mathrm{d}y}{\\mathrm{d}t} = f(t,y) = -ayt\\\\)\n",
        "\n",
        "Analytical solution: \\\\( y(t)=y_0 \\exp(-t^2a/2)\\\\)"
      ]
    },
    {
      "cell_type": "markdown",
      "id": "dbd763f0",
      "metadata": {
        "id": "dbd763f0"
      },
      "source": [
        "- Our old results (Euler method)"
      ]
    },
    {
      "cell_type": "code",
      "execution_count": null,
      "id": "eb9000b8",
      "metadata": {
        "id": "eb9000b8"
      },
      "outputs": [],
      "source": [
        ""
      ]
    },
    {
      "cell_type": "markdown",
      "id": "d6815209",
      "metadata": {
        "id": "d6815209"
      },
      "source": [
        "- New results (solve_ivp)"
      ]
    },
    {
      "cell_type": "code",
      "execution_count": null,
      "id": "798b4b51",
      "metadata": {
        "id": "798b4b51"
      },
      "outputs": [],
      "source": [
        ""
      ]
    },
    {
      "cell_type": "markdown",
      "id": "b6002995",
      "metadata": {
        "id": "b6002995"
      },
      "source": [
        "### Example 3) Free fall"
      ]
    },
    {
      "cell_type": "code",
      "execution_count": null,
      "id": "95a05a86",
      "metadata": {
        "id": "95a05a86"
      },
      "outputs": [],
      "source": [
        ""
      ]
    },
    {
      "cell_type": "markdown",
      "id": "4ddae053",
      "metadata": {
        "id": "4ddae053"
      },
      "source": [
        "### Example 4) Driven pendulum"
      ]
    },
    {
      "cell_type": "markdown",
      "id": "a2414cfb",
      "metadata": {
        "id": "a2414cfb"
      },
      "source": [
        "- Our old results (Euler method)"
      ]
    },
    {
      "cell_type": "code",
      "execution_count": null,
      "id": "c20e1e3e",
      "metadata": {
        "id": "c20e1e3e"
      },
      "outputs": [],
      "source": [
        ""
      ]
    },
    {
      "cell_type": "markdown",
      "id": "2b4e0271",
      "metadata": {
        "id": "2b4e0271"
      },
      "source": [
        "- New results (solve_ivp)"
      ]
    },
    {
      "cell_type": "code",
      "execution_count": null,
      "id": "f69cb338",
      "metadata": {
        "id": "f69cb338"
      },
      "outputs": [],
      "source": [
        ""
      ]
    },
    {
      "cell_type": "markdown",
      "id": "ea653680",
      "metadata": {
        "id": "ea653680"
      },
      "source": [
        "### Compare more methods"
      ]
    },
    {
      "cell_type": "code",
      "execution_count": null,
      "id": "b9c20a0c",
      "metadata": {
        "id": "b9c20a0c"
      },
      "outputs": [],
      "source": [
        "# [https://docs.scipy.org/doc/scipy/reference/generated/scipy.integrate.solve_ivp.html#scipy.integrate.solve_ivp]\n",
        "# methods:\n",
        "# RK45\n",
        "# RK23\n",
        "# DOP853\n",
        "# Radau\n",
        "# BDF\n",
        "# LSODA"
      ]
    },
    {
      "cell_type": "code",
      "execution_count": null,
      "id": "fbb75ec2",
      "metadata": {
        "id": "fbb75ec2"
      },
      "outputs": [],
      "source": [
        ""
      ]
    },
    {
      "cell_type": "markdown",
      "id": "d8a5d37a",
      "metadata": {
        "id": "d8a5d37a"
      },
      "source": [
        "## 3. Theory of the Runge-Kutta methods"
      ]
    },
    {
      "cell_type": "markdown",
      "id": "cc614b20",
      "metadata": {
        "id": "cc614b20"
      },
      "source": [
        "There exist several different Runge-Kutta methods"
      ]
    },
    {
      "cell_type": "markdown",
      "id": "cd89d4bd",
      "metadata": {
        "id": "cd89d4bd"
      },
      "source": [
        "Derivation is difficult: https://en.wikipedia.org/wiki/Runge%E2%80%93Kutta_methods#Derivation_of_the_Runge%E2%80%93Kutta_fourth-order_method"
      ]
    },
    {
      "cell_type": "markdown",
      "id": "870730fb",
      "metadata": {
        "id": "870730fb"
      },
      "source": [
        "### 3.1 Implementation of RK4"
      ]
    },
    {
      "cell_type": "code",
      "execution_count": null,
      "id": "295c4b3f",
      "metadata": {
        "id": "295c4b3f"
      },
      "outputs": [],
      "source": [
        "# [https://en.wikipedia.org/wiki/List_of_Runge%E2%80%93Kutta_methods#Classic_fourth-order_method]\n",
        "\n"
      ]
    },
    {
      "cell_type": "markdown",
      "id": "ae570923",
      "metadata": {
        "id": "ae570923"
      },
      "source": [
        "### 3.2 Implementation of RK45"
      ]
    },
    {
      "cell_type": "code",
      "execution_count": null,
      "id": "1f76f261",
      "metadata": {
        "id": "1f76f261"
      },
      "outputs": [],
      "source": [
        "# [https://en.wikipedia.org/wiki/List_of_Runge%E2%80%93Kutta_methods#Fehlberg]\n",
        "\n"
      ]
    },
    {
      "cell_type": "markdown",
      "id": "377a45b8",
      "metadata": {
        "id": "377a45b8"
      },
      "source": [
        "### 3.3 Comparison with Euler method"
      ]
    },
    {
      "cell_type": "code",
      "execution_count": null,
      "id": "a57edfc9",
      "metadata": {
        "id": "a57edfc9"
      },
      "outputs": [],
      "source": [
        ""
      ]
    }
  ],
  "metadata": {
    "kernelspec": {
      "display_name": "Python 3 (ipykernel)",
      "language": "python",
      "name": "python3"
    },
    "language_info": {
      "codemirror_mode": {
        "name": "ipython",
        "version": 3
      },
      "file_extension": ".py",
      "mimetype": "text/x-python",
      "name": "python",
      "nbconvert_exporter": "python",
      "pygments_lexer": "ipython3",
      "version": "3.9.7"
    },
    "colab": {
      "name": "06_Differential_equations_template.ipynb",
      "provenance": [],
      "collapsed_sections": [
        "83b20246",
        "e533b5c2",
        "13ec1509",
        "017fc71a",
        "e00f08a4",
        "19a8d176",
        "b6002995",
        "4ddae053",
        "ea653680",
        "870730fb",
        "ae570923",
        "377a45b8"
      ],
      "include_colab_link": true
    }
  },
  "nbformat": 4,
  "nbformat_minor": 5
}