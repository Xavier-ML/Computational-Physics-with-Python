{
  "cells": [
    {
      "cell_type": "markdown",
      "metadata": {
        "id": "view-in-github",
        "colab_type": "text"
      },
      "source": [
        "<a href=\"https://colab.research.google.com/github/Xavier-ML/Computational-Physics-with-Python/blob/main/07d_Mutidimensional_3_body_template.ipynb\" target=\"_parent\"><img src=\"https://colab.research.google.com/assets/colab-badge.svg\" alt=\"Open In Colab\"/></a>"
      ]
    },
    {
      "cell_type": "markdown",
      "id": "c6805951",
      "metadata": {
        "id": "c6805951"
      },
      "source": [
        "# Multidimensional differential equations\n",
        "\n",
        "- Börge Göbel "
      ]
    },
    {
      "cell_type": "code",
      "execution_count": 1,
      "id": "921259c3",
      "metadata": {
        "id": "921259c3"
      },
      "outputs": [],
      "source": [
        "import numpy as np\n",
        "import matplotlib.pyplot as plt \n",
        "from scipy import integrate"
      ]
    },
    {
      "cell_type": "markdown",
      "id": "29eb17ec",
      "metadata": {
        "id": "29eb17ec"
      },
      "source": [
        "# 3-body problem"
      ]
    },
    {
      "cell_type": "code",
      "execution_count": 2,
      "id": "eb2d6604",
      "metadata": {
        "id": "eb2d6604"
      },
      "outputs": [],
      "source": [
        "# Constants in SI units\n",
        "\n",
        "# Gravitational constant\n",
        "G = 6.67430*10**(-11) # m^3 / ( kg * s^2 )\n",
        "\n",
        "# Masses\n",
        "msun = 1.9884 * 10**30 # kg\n",
        "mearth = 5.9723 * 10**24 # kg\n",
        "mmoon = 7.349 * 10**22 # kg\n",
        "\n",
        "# Distances (average)\n",
        "rSunEarth = 1.4960 * 10**11 # m\n",
        "rEarthMoon = 3.850 * 10**8 # m\n",
        "\n",
        "# Velocities (average)\n",
        "vEarth = 29780 # m/s (Trajectory around sun)\n",
        "vMoon = 1022 # m/s (Trajectory around earth)"
      ]
    },
    {
      "cell_type": "markdown",
      "id": "fd46d2f2",
      "metadata": {
        "id": "fd46d2f2"
      },
      "source": [
        "## A) Sun, Earth & Moon"
      ]
    },
    {
      "cell_type": "markdown",
      "id": "b461fb52",
      "metadata": {
        "id": "b461fb52"
      },
      "source": [
        "Variables for each of the 3 bodies: \\\\(x, y, z, v_x, v_y, v_z\\\\)\n",
        "\n",
        "Force: Newton's law of gravitation \n",
        "\n",
        "\\begin{equation}\n",
        "( \\vec{F} =G\\frac{m_1m_2}{|\\vec{r}_0-\\vec{r}|^3}(\\vec{r}_0-\\vec{r}) = -G\\frac{m_1m_2}{r^2}\\vec{e}_r\\end{equation} for \\begin{equation} \\vec{r}_0=0\\end{equation}\n",
        "\n",
        "For the three bodies\n",
        "\n",
        "\\begin{equation}\n",
        "( m_1\\ddot{\\vec{r}_1}=\n",
        "G\\frac{m_1m_2}{|\\vec{r}_2-\\vec{r}_1|^3}(\\vec{r}_2-\\vec{r}_1) + G\\frac{m_1m_3}{|\\vec{r}_3-\\vec{r}_1|^3}(\\vec{r}_3-\\vec{r}_1)\\\\\n",
        "m_2\\ddot{\\vec{r}_2}=\n",
        "G\\frac{m_2m_1}{|\\vec{r}_1-\\vec{r}_2|^3}(\\vec{r}_1-\\vec{r}_2) + G\\frac{m_2m_3}{|\\vec{r}_3-\\vec{r}_2|^3}(\\vec{r}_3-\\vec{r}_2)\\\\\n",
        "m_3\\ddot{\\vec{r}_3}=\n",
        "G\\frac{m_3m_1}{|\\vec{r}_1-\\vec{r}_3|^3}(\\vec{r}_1-\\vec{r}_3) + G\\frac{m_3m_2}{|\\vec{r}_2-\\vec{r}_3|^3}(\\vec{r}_2-\\vec{r}_3)\n",
        "\\end{equation}\n",
        "\n",
        "We have the solve the following differential equations\n",
        "\n",
        "\\begin{equation} \\ddot{\\vec{r}_1}=\n",
        "-G\\left(\\frac{m_2}{|\\vec{r}_2-\\vec{r}_1|^3}+\\frac{m_3}{|\\vec{r}_3-\\vec{r}_1|^3}\\right)\\vec{r}_1 + G\\frac{m_2}{|\\vec{r}_2-\\vec{r}_1|^3}\\vec{r}_2 + G\\frac{m_3}{|\\vec{r}_3-\\vec{r}_1|^3}\\vec{r}_3\\\\\n",
        "\\ddot{\\vec{r}_2}=\n",
        "G\\frac{m_1}{|\\vec{r}_1-\\vec{r}_2|^3}\\vec{r}_1 -G\\left(\\frac{m_1}{|\\vec{r}_1-\\vec{r}_2|^3}+\\frac{m_3}{|\\vec{r}_3-\\vec{r}_2|^3}\\right)\\vec{r}_2 + G\\frac{m_3}{|\\vec{r}_3-\\vec{r}_2|^3}\\vec{r}_3\\\\\n",
        "\\ddot{\\vec{r}_3}=\n",
        "G\\frac{m_1}{|\\vec{r}_1-\\vec{r}_3|^3}\\vec{r}_1 + G\\frac{m_2}{|\\vec{r}_2-\\vec{r}_3|^3}\\vec{r}_2 -G\\left(\\frac{m_1}{|\\vec{r}_1-\\vec{r}_3|^3}+\\frac{m_2}{|\\vec{r}_2-\\vec{r}_3|^3}\\right)\\vec{r}_3\n",
        "\\end{equation}"
      ]
    },
    {
      "cell_type": "code",
      "execution_count": 12,
      "id": "6d61fc1d",
      "metadata": {
        "id": "6d61fc1d"
      },
      "outputs": [],
      "source": [
        "m1 = msun\n",
        "m2 = mearth\n",
        "m3 = mmoon\n",
        "\n",
        "def f_ODE(t,r):\n",
        "    r1 = r[0:3]\n",
        "    r2 = r[3:6]\n",
        "    r3 = r[6:9]\n",
        "    #v1 = r[9:12]\n",
        "    r12 = np.linalg.norm(r1-r2)\n",
        "    r23 = np.linalg.norm(r2-r3)\n",
        "    r31 = np.linalg.norm(r3-r1)\n",
        "    eqr = G*np.array([\n",
        "        -(m2/r12**3 + m3/r31**3)*r1 + m2/r12**3 * r2 + m3/r31**3 * r3,\n",
        "        m1/r12**3 * r1 - (m1/r12**3 + m3/r23**3)*r2 + m3/r23**3 * r3,\n",
        "        m1/r31**3 * r1 + m2/r23**3 * r2 -(m1/r31**3 + m2/r23**3)*r3\n",
        "    ])\n",
        "    return np.concatenate([r[9:18], eqr.flatten() ])"
      ]
    },
    {
      "cell_type": "code",
      "source": [
        "#sun\n",
        "\n",
        "r1start = np.array([0,0,0])\n",
        "v1start = np.array([0,0,0])\n",
        "\n",
        "# earth\n",
        "r2start = np.array([rSunEarth,0,0])\n",
        "v2start = np.array([0,vEarth,0])\n",
        "\n",
        "# moon\n",
        "r3start = np.array([rSunEarth, rEarthMoon, 0])\n",
        "v3start = np.array([-vMoon, vEarth, 0])\n",
        "\n",
        "r0 = np.concatenate([r1start, r2start, r3start, v1start, v2start, v3start])"
      ],
      "metadata": {
        "id": "pnj8WbDAoqkw"
      },
      "id": "pnj8WbDAoqkw",
      "execution_count": 13,
      "outputs": []
    },
    {
      "cell_type": "code",
      "source": [
        "f_ODE(0,r0)"
      ],
      "metadata": {
        "colab": {
          "base_uri": "https://localhost:8080/"
        },
        "id": "c-3o7NyMs1uw",
        "outputId": "2bd0afea-e3ff-4994-efda-d69883e0cc6c"
      },
      "id": "c-3o7NyMs1uw",
      "execution_count": 14,
      "outputs": [
        {
          "output_type": "execute_result",
          "data": {
            "text/plain": [
              "array([ 0.00000000e+00,  0.00000000e+00,  0.00000000e+00,  0.00000000e+00,\n",
              "        2.97800000e+04,  0.00000000e+00, -1.02200000e+03,  2.97800000e+04,\n",
              "        0.00000000e+00,  1.80299923e-08,  5.64021430e-13,  0.00000000e+00,\n",
              "       -5.92988527e-03,  3.30911997e-05,  0.00000000e+00, -5.92982636e-03,\n",
              "       -2.70447778e-03,  0.00000000e+00])"
            ]
          },
          "metadata": {},
          "execution_count": 14
        }
      ]
    },
    {
      "cell_type": "code",
      "source": [
        "tStart = 0\n",
        "\n",
        "# 1 year = 60*60*24*365.25 seconds\n",
        "tEnd = 60*60*24*365.25*2.0\n",
        "\n",
        "solution = integrate.solve_ivp(f_ODE, [tStart, tEnd], r0, method = \"RK45\", t_eval = np.linspace(tStart,tEnd, 100001), rtol = 0.001e-3,atol = 0.001e-6)"
      ],
      "metadata": {
        "id": "fwOOwKQBuhaf"
      },
      "id": "fwOOwKQBuhaf",
      "execution_count": 24,
      "outputs": []
    },
    {
      "cell_type": "code",
      "source": [
        "fig = plt.figure()\n",
        "ax = fig.add_subplot(1,1,1)\n",
        "ax.set_aspect(1)\n",
        "\n",
        "plt.xlabel(\"x\")\n",
        "plt.ylabel(\"y\")\n",
        "\n",
        "plt.plot(solution.y[0], solution.y[1], \"red\")\n",
        "plt.plot(solution.y[3], solution.y[4], \"blue\")\n",
        "plt.plot(solution.y[6], solution.y[7], \"green\")"
      ],
      "metadata": {
        "colab": {
          "base_uri": "https://localhost:8080/",
          "height": 307
        },
        "id": "8S_MM0PqxNuy",
        "outputId": "7eb0c3bb-1273-4160-8102-eeb2d69b3f1b"
      },
      "id": "8S_MM0PqxNuy",
      "execution_count": 25,
      "outputs": [
        {
          "output_type": "execute_result",
          "data": {
            "text/plain": [
              "[<matplotlib.lines.Line2D at 0x7f7882491710>]"
            ]
          },
          "metadata": {},
          "execution_count": 25
        },
        {
          "output_type": "display_data",
          "data": {
            "text/plain": [
              "<Figure size 432x288 with 1 Axes>"
            ],
            "image/png": "[encoded data removed]"
          },
          "metadata": {
            "needs_background": "light"
          }
        }
      ]
    },
    {
      "cell_type": "markdown",
      "id": "dd22d0b9",
      "metadata": {
        "id": "dd22d0b9"
      },
      "source": [
        "### Sun"
      ]
    },
    {
      "cell_type": "code",
      "execution_count": null,
      "id": "ec73dcfb",
      "metadata": {
        "id": "ec73dcfb"
      },
      "outputs": [],
      "source": []
    },
    {
      "cell_type": "markdown",
      "id": "e2c8d852",
      "metadata": {
        "id": "e2c8d852"
      },
      "source": [
        "### Earth"
      ]
    },
    {
      "cell_type": "code",
      "execution_count": null,
      "id": "0cbda8e7",
      "metadata": {
        "id": "0cbda8e7"
      },
      "outputs": [],
      "source": []
    },
    {
      "cell_type": "markdown",
      "id": "5625ab12",
      "metadata": {
        "id": "5625ab12"
      },
      "source": [
        "### Moon"
      ]
    },
    {
      "cell_type": "markdown",
      "id": "a8212f5c",
      "metadata": {
        "id": "a8212f5c"
      },
      "source": [
        "### Moon orbit around earth"
      ]
    },
    {
      "cell_type": "code",
      "execution_count": null,
      "id": "846c8b99",
      "metadata": {
        "id": "846c8b99"
      },
      "outputs": [],
      "source": []
    },
    {
      "cell_type": "markdown",
      "id": "2ebde7b4",
      "metadata": {
        "id": "2ebde7b4"
      },
      "source": [
        "### Exaggerate moon orbit radius"
      ]
    },
    {
      "cell_type": "code",
      "execution_count": null,
      "id": "825f08c0",
      "metadata": {
        "id": "825f08c0"
      },
      "outputs": [],
      "source": []
    },
    {
      "cell_type": "markdown",
      "id": "f729b6b5",
      "metadata": {
        "id": "f729b6b5"
      },
      "source": [
        "## B) Add a fourth body: Spaceship"
      ]
    },
    {
      "cell_type": "markdown",
      "id": "b47fdbf3",
      "metadata": {
        "id": "b47fdbf3"
      },
      "source": [
        "Since the mass of the spaceship is so small compared to the other masses, we will disregard the effect on sun, earth and moon. \n",
        "The 3 differential equation remain. \n",
        "\n",
        "The following equation describes the spaceship\n",
        "\n",
        "\\begin{equation}\n",
        "m_4\\ddot{\\vec{r}_4}=\n",
        "G\\frac{m_4m_1}{|\\vec{r}_1-\\vec{r}_4|^3}(\\vec{r}_1-\\vec{r}_4) + \n",
        "G\\frac{m_4m_2}{|\\vec{r}_2-\\vec{r}_4|^3}(\\vec{r}_2-\\vec{r}_4) + \n",
        "G\\frac{m_4m_3}{|\\vec{r}_3-\\vec{r}_4|^3}(\\vec{r}_3-\\vec{r}_4)\n",
        "\\end{equation}\n",
        "\n",
        "We add to our systems of differential equations:\n",
        "\n",
        "\\begin{equation}\n",
        "\\ddot{\\vec{r}_4}=\n",
        "G\\frac{m_1}{|\\vec{r}_1-\\vec{r}_4|^3}\\vec{r}_1 + G\\frac{m_2}{|\\vec{r}_2-\\vec{r}_4|^3}\\vec{r}_2+ G\\frac{m_3}{|\\vec{r}_3-\\vec{r}_4|^3}\\vec{r}_3 -G\\left(\\frac{m_1}{|\\vec{r}_1-\\vec{r}_4|^3}+\\frac{m_2}{|\\vec{r}_2-\\vec{r}_4|^3}+\\frac{m_3}{|\\vec{r}_3-\\vec{r}_4|^3}\\right)\\vec{r}_4\n",
        "\\end{equation}"
      ]
    },
    {
      "cell_type": "code",
      "execution_count": null,
      "id": "90c9056f",
      "metadata": {
        "id": "90c9056f"
      },
      "outputs": [],
      "source": []
    },
    {
      "cell_type": "markdown",
      "id": "716a2393",
      "metadata": {
        "id": "716a2393"
      },
      "source": [
        "## Analyze trajectory with respect to earth and moon"
      ]
    },
    {
      "cell_type": "code",
      "execution_count": null,
      "id": "99a7271f",
      "metadata": {
        "id": "99a7271f"
      },
      "outputs": [],
      "source": []
    },
    {
      "cell_type": "markdown",
      "id": "f216edb7",
      "metadata": {
        "id": "f216edb7"
      },
      "source": [
        "### a) Elliptical orbit"
      ]
    },
    {
      "cell_type": "code",
      "execution_count": null,
      "id": "a74b5d75",
      "metadata": {
        "id": "a74b5d75"
      },
      "outputs": [],
      "source": []
    },
    {
      "cell_type": "markdown",
      "id": "a2f9abf9",
      "metadata": {
        "id": "a2f9abf9"
      },
      "source": [
        "### b) Direct earth escape"
      ]
    },
    {
      "cell_type": "code",
      "execution_count": null,
      "id": "c94f001a",
      "metadata": {
        "id": "c94f001a"
      },
      "outputs": [],
      "source": []
    },
    {
      "cell_type": "markdown",
      "id": "bdadf27f",
      "metadata": {
        "id": "bdadf27f"
      },
      "source": [
        "### c) Earth espace via moon encounter"
      ]
    },
    {
      "cell_type": "code",
      "execution_count": null,
      "id": "09b58f60",
      "metadata": {
        "id": "09b58f60"
      },
      "outputs": [],
      "source": []
    },
    {
      "cell_type": "markdown",
      "id": "e6a0fe1c",
      "metadata": {
        "id": "e6a0fe1c"
      },
      "source": [
        "### d) Moon orbit"
      ]
    },
    {
      "cell_type": "markdown",
      "id": "7d05d6cf",
      "metadata": {
        "id": "7d05d6cf"
      },
      "source": [
        "We have already achieved a trajectory that aproached the moon. In order to reach a stable orbit, we must decrease the relative velocity of the spaceship once it is close to the moon. We will temporarily apply a force that breaks the spaceship relative to the moon.\n",
        "\n",
        "The fourth differential equation changes to\n",
        "\n",
        "\\begin{equation}\n",
        "\\ddot{\\vec{r}_4}=\n",
        "G\\frac{m_1}{|\\vec{r}_1-\\vec{r}_4|^3}\\vec{r}_1 + G\\frac{m_2}{|\\vec{r}_2-\\vec{r}_4|^3}\\vec{r}_2+ G\\frac{m_3}{|\\vec{r}_3-\\vec{r}_4|^3}\\vec{r}_3 -G\\left(\\frac{m_1}{|\\vec{r}_1-\\vec{r}_4|^3}+\\frac{m_2}{|\\vec{r}_2-\\vec{r}_4|^3}+\\frac{m_3}{|\\vec{r}_3-\\vec{r}_4|^3}\\right)\\vec{r}_4 - \\frac{F(t)}{m_4}\\vec{e_{v_\\mathrm{rel}}}\n",
        "\\end{equation}\n",
        "\n",
        "with \n",
        "\n",
        "\\begin{equation}\n",
        "\\vec{e_{v_\\mathrm{rel}}}=\\frac{\\dot{\\vec{r}}_4-\\dot{\\vec{r}}_3}{\\left|\\dot{\\vec{r}}_4-\\dot{\\vec{r}}_3\\right|}\n",
        "\\end{equation}"
      ]
    },
    {
      "cell_type": "code",
      "execution_count": null,
      "id": "5d8d0d24",
      "metadata": {
        "id": "5d8d0d24"
      },
      "outputs": [],
      "source": []
    }
  ],
  "metadata": {
    "kernelspec": {
      "display_name": "Python 3 (ipykernel)",
      "language": "python",
      "name": "python3"
    },
    "language_info": {
      "codemirror_mode": {
        "name": "ipython",
        "version": 3
      },
      "file_extension": ".py",
      "mimetype": "text/x-python",
      "name": "python",
      "nbconvert_exporter": "python",
      "pygments_lexer": "ipython3",
      "version": "3.9.7"
    },
    "colab": {
      "provenance": [],
      "include_colab_link": true
    }
  },
  "nbformat": 4,
  "nbformat_minor": 5
}