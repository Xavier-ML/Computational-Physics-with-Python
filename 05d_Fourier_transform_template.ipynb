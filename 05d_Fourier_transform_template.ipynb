{
  "cells": [
    {
      "cell_type": "markdown",
      "metadata": {
        "id": "view-in-github",
        "colab_type": "text"
      },
      "source": [
        "<a href=\"https://colab.research.google.com/github/Xavier-ML/Computational-Physics-with-Python/blob/main/05d_Fourier_transform_template.ipynb\" target=\"_parent\"><img src=\"https://colab.research.google.com/assets/colab-badge.svg\" alt=\"Open In Colab\"/></a>"
      ]
    },
    {
      "cell_type": "markdown",
      "id": "9edbe57b",
      "metadata": {
        "id": "9edbe57b"
      },
      "source": [
        "# Fourier transform\n",
        "- Börge Göbel"
      ]
    },
    {
      "cell_type": "code",
      "execution_count": 11,
      "id": "64684100",
      "metadata": {
        "id": "64684100"
      },
      "outputs": [],
      "source": [
        "import numpy as np\n",
        "import matplotlib.pyplot as plt "
      ]
    },
    {
      "cell_type": "markdown",
      "id": "9a912bea",
      "metadata": {
        "id": "9a912bea"
      },
      "source": [
        "## Recall integrals"
      ]
    },
    {
      "cell_type": "code",
      "execution_count": 12,
      "id": "25dafcb2",
      "metadata": {
        "id": "25dafcb2"
      },
      "outputs": [],
      "source": [
        "def integralTrapezoidal(data):\n",
        "    a = 0\n",
        "    for i in range( len(data[0]) - 1 ):\n",
        "        a = a + ( data[1,i+1] + data[1,i] ) / 2 * ( data[0,i+1] - data[0, i] )\n",
        "    return a"
      ]
    },
    {
      "cell_type": "code",
      "execution_count": 15,
      "id": "bc152138",
      "metadata": {
        "colab": {
          "base_uri": "https://localhost:8080/",
          "height": 282
        },
        "id": "bc152138",
        "outputId": "7004e3f2-7808-4fb8-b282-87a56d113083"
      },
      "outputs": [
        {
          "output_type": "execute_result",
          "data": {
            "text/plain": [
              "[<matplotlib.lines.Line2D at 0x7f6d00abb310>]"
            ]
          },
          "metadata": {},
          "execution_count": 15
        },
        {
          "output_type": "display_data",
          "data": {
            "text/plain": [
              "<Figure size 432x288 with 1 Axes>"
            ],
            "image/png": "[encoded data removed]"
          },
          "metadata": {
            "needs_background": "light"
          }
        }
      ],
      "source": [
        "tlist = np.linspace(0,50,501)\n",
        "\n",
        "freq1 = 2.0\n",
        "freq2 = 0.3\n",
        "freq3 = 3.5\n",
        "\n",
        "ylist = 0.5*np.cos(tlist*freq1 + 0.3) + 2.0*np.cos(tlist*freq2) + 1.0*np.cos(tlist*freq3)\n",
        "\n",
        "data = np.array([tlist,ylist])\n",
        "plt.plot(data[0],data[1])"
      ]
    },
    {
      "cell_type": "code",
      "source": [
        "integralTrapezoidal(data)"
      ],
      "metadata": {
        "colab": {
          "base_uri": "https://localhost:8080/"
        },
        "id": "dkmmwnWI8jEG",
        "outputId": "af519b97-c5ce-4584-ae6a-f20285e71e55"
      },
      "id": "dkmmwnWI8jEG",
      "execution_count": 16,
      "outputs": [
        {
          "output_type": "execute_result",
          "data": {
            "text/plain": [
              "3.9777009877621277"
            ]
          },
          "metadata": {},
          "execution_count": 16
        }
      ]
    },
    {
      "cell_type": "markdown",
      "id": "45bf1402",
      "metadata": {
        "id": "45bf1402"
      },
      "source": [
        "## Fourier transform to find characteristic frequencies"
      ]
    },
    {
      "cell_type": "markdown",
      "id": "cb90b2b3",
      "metadata": {
        "id": "cb90b2b3"
      },
      "source": [
        "\\\\(\n",
        "\\tilde{y}(\\omega) = \\frac{1}{\\sqrt{2\\pi}} \\int_{-\\infty}^{\\infty} y(t) e^{i\\omega t}\\mathrm{d}t\n",
        "\\\\)"
      ]
    },
    {
      "cell_type": "code",
      "execution_count": 18,
      "id": "cbfe5ee8",
      "metadata": {
        "colab": {
          "base_uri": "https://localhost:8080/"
        },
        "id": "cbfe5ee8",
        "outputId": "844212d4-d0a6-4410-db02-b1fdcc6d0b9e"
      },
      "outputs": [
        {
          "output_type": "stream",
          "name": "stdout",
          "text": [
            "373.98754846897106\n"
          ]
        }
      ],
      "source": [
        "omega = 0.3\n",
        "integrand = np.array([tlist, 1/np.sqrt(2*np.pi) * ylist * np.exp(1j*omega*tlist)])\n",
        "\n",
        "print(abs(integralTrapezoidal(integrand))**2)"
      ]
    },
    {
      "cell_type": "code",
      "source": [
        ""
      ],
      "metadata": {
        "id": "jIKErzhfORx7"
      },
      "id": "jIKErzhfORx7",
      "execution_count": null,
      "outputs": []
    },
    {
      "cell_type": "code",
      "source": [
        "ft = np.array(\n",
        "    [[om,integralTrapezoidal( np.array([tlist, 1/np.sqrt(2*np.pi) *ylist * np.exp(1j*om*tlist)]) )] for om in np.linspace(0,10,1001)\n",
        "\n",
        "    ]\n",
        ")"
      ],
      "metadata": {
        "id": "fxU6oJjfHzF4"
      },
      "id": "fxU6oJjfHzF4",
      "execution_count": 26,
      "outputs": []
    },
    {
      "cell_type": "code",
      "source": [
        "ft[:,0]"
      ],
      "metadata": {
        "colab": {
          "base_uri": "https://localhost:8080/"
        },
        "id": "CdNUbhrzH0-o",
        "outputId": "b0029078-06d3-45d4-d2a4-bb3fdaff7af2"
      },
      "id": "CdNUbhrzH0-o",
      "execution_count": 27,
      "outputs": [
        {
          "output_type": "execute_result",
          "data": {
            "text/plain": [
              "array([ 0.  +0.j,  0.01+0.j,  0.02+0.j, ...,  9.98+0.j,  9.99+0.j,\n",
              "       10.  +0.j])"
            ]
          },
          "metadata": {},
          "execution_count": 27
        }
      ]
    },
    {
      "cell_type": "code",
      "source": [
        "plt.xlabel(\"Frecuency omega\")\n",
        "plt.ylabel(\"Intensity\")\n",
        "\n",
        "plt.plot(ft[:,0].real, abs(ft[:,1])**2)"
      ],
      "metadata": {
        "colab": {
          "base_uri": "https://localhost:8080/",
          "height": 296
        },
        "id": "Tq0RAdgxPALT",
        "outputId": "4eb5ccf9-0e20-4612-a2f0-a93c3bf16551"
      },
      "id": "Tq0RAdgxPALT",
      "execution_count": 28,
      "outputs": [
        {
          "output_type": "execute_result",
          "data": {
            "text/plain": [
              "[<matplotlib.lines.Line2D at 0x7f6d0080a1d0>]"
            ]
          },
          "metadata": {},
          "execution_count": 28
        },
        {
          "output_type": "display_data",
          "data": {
            "text/plain": [
              "<Figure size 432x288 with 1 Axes>"
            ],
            "image/png": "[encoded data removed]"
          },
          "metadata": {
            "needs_background": "light"
          }
        }
      ]
    },
    {
      "cell_type": "code",
      "source": [
        "ft[25:35]"
      ],
      "metadata": {
        "colab": {
          "base_uri": "https://localhost:8080/"
        },
        "id": "iNBCjr8pQnjL",
        "outputId": "4783cc85-cd4b-40f1-b2ab-f54a1beb2e5b"
      },
      "id": "iNBCjr8pQnjL",
      "execution_count": 31,
      "outputs": [
        {
          "output_type": "execute_result",
          "data": {
            "text/plain": [
              "array([[ 0.25       +0.j        ,  5.13976081-13.12300671j],\n",
              "       [ 0.26       +0.j        ,  9.12092078-12.77901015j],\n",
              "       [ 0.27       +0.j        , 12.99531827-11.07836908j],\n",
              "       [ 0.28       +0.j        , 16.26371891 -8.10097747j],\n",
              "       [ 0.29       +0.j        , 18.48187614 -4.11682165j],\n",
              "       [ 0.3        +0.j        , 19.33358327 +0.44733276j],\n",
              "       [ 0.31       +0.j        , 18.68515335 +5.06910819j],\n",
              "       [ 0.32       +0.j        , 16.61095756 +9.20973395j],\n",
              "       [ 0.33       +0.j        , 13.38462931+12.39782423j],\n",
              "       [ 0.34       +0.j        ,  9.43672549+14.30298549j]])"
            ]
          },
          "metadata": {},
          "execution_count": 31
        }
      ]
    },
    {
      "cell_type": "code",
      "source": [
        "from numpy.core.fromnumeric import shape\n",
        "shape(ft)"
      ],
      "metadata": {
        "colab": {
          "base_uri": "https://localhost:8080/"
        },
        "id": "5vkogxlzSwkl",
        "outputId": "6bc755bc-7c65-4efc-b520-fe0158e4ecdf"
      },
      "id": "5vkogxlzSwkl",
      "execution_count": 36,
      "outputs": [
        {
          "output_type": "execute_result",
          "data": {
            "text/plain": [
              "(1001, 2)"
            ]
          },
          "metadata": {},
          "execution_count": 36
        }
      ]
    },
    {
      "cell_type": "code",
      "source": [
        "ft[25:35,0]"
      ],
      "metadata": {
        "colab": {
          "base_uri": "https://localhost:8080/"
        },
        "id": "hjHkKYQgP0ss",
        "outputId": "acba2b21-bdb4-473f-c648-76f8a3869bd1"
      },
      "id": "hjHkKYQgP0ss",
      "execution_count": 29,
      "outputs": [
        {
          "output_type": "execute_result",
          "data": {
            "text/plain": [
              "array([0.25+0.j, 0.26+0.j, 0.27+0.j, 0.28+0.j, 0.29+0.j, 0.3 +0.j,\n",
              "       0.31+0.j, 0.32+0.j, 0.33+0.j, 0.34+0.j])"
            ]
          },
          "metadata": {},
          "execution_count": 29
        }
      ]
    },
    {
      "cell_type": "code",
      "source": [
        "abs(ft[25:35,0])**2"
      ],
      "metadata": {
        "colab": {
          "base_uri": "https://localhost:8080/"
        },
        "id": "vyUxwr5XP9TU",
        "outputId": "fa3afffc-d9a4-47d9-f756-4c326e6c5f3f"
      },
      "id": "vyUxwr5XP9TU",
      "execution_count": 30,
      "outputs": [
        {
          "output_type": "execute_result",
          "data": {
            "text/plain": [
              "array([0.0625, 0.0676, 0.0729, 0.0784, 0.0841, 0.09  , 0.0961, 0.1024,\n",
              "       0.1089, 0.1156])"
            ]
          },
          "metadata": {},
          "execution_count": 30
        }
      ]
    },
    {
      "cell_type": "markdown",
      "id": "0b527740",
      "metadata": {
        "id": "0b527740"
      },
      "source": [
        "## Use numpy module: Fast Fourier transform (FFT)"
      ]
    },
    {
      "cell_type": "code",
      "execution_count": 24,
      "id": "76a944c3",
      "metadata": {
        "colab": {
          "base_uri": "https://localhost:8080/",
          "height": 282
        },
        "id": "76a944c3",
        "outputId": "59dd3caf-6246-4fef-8190-4f306f77ffab"
      },
      "outputs": [
        {
          "output_type": "execute_result",
          "data": {
            "text/plain": [
              "[<matplotlib.lines.Line2D at 0x7f6d00af1fd0>]"
            ]
          },
          "metadata": {},
          "execution_count": 24
        },
        {
          "output_type": "display_data",
          "data": {
            "text/plain": [
              "<Figure size 432x288 with 1 Axes>"
            ],
            "image/png": "[encoded data removed]"
          },
          "metadata": {
            "needs_background": "light"
          }
        }
      ],
      "source": [
        "ft = np.fft.fft(ylist)/len(ylist)\n",
        "\n",
        "plt.plot(abs(ft)**2 ) "
      ]
    },
    {
      "cell_type": "code",
      "execution_count": 25,
      "id": "334048a0",
      "metadata": {
        "colab": {
          "base_uri": "https://localhost:8080/",
          "height": 282
        },
        "id": "334048a0",
        "outputId": "c4c9edf6-d657-45e3-9580-11efdcad5c20"
      },
      "outputs": [
        {
          "output_type": "execute_result",
          "data": {
            "text/plain": [
              "[<matplotlib.lines.Line2D at 0x7f6d008b4ad0>]"
            ]
          },
          "metadata": {},
          "execution_count": 25
        },
        {
          "output_type": "display_data",
          "data": {
            "text/plain": [
              "<Figure size 432x288 with 1 Axes>"
            ],
            "image/png": "[encoded data removed]"
          },
          "metadata": {
            "needs_background": "light"
          }
        }
      ],
      "source": [
        "frequencies = np.arange(len(ylist)) / ( len(ylist)*0.1 )\n",
        "\n",
        "plt.xlim([0, 10])\n",
        "plt.plot( frequencies*2*np.pi, abs(ft)**2 ) "
      ]
    },
    {
      "cell_type": "code",
      "source": [
        ""
      ],
      "metadata": {
        "id": "WBkDbd4dMzXa"
      },
      "id": "WBkDbd4dMzXa",
      "execution_count": null,
      "outputs": []
    }
  ],
  "metadata": {
    "kernelspec": {
      "display_name": "Python 3 (ipykernel)",
      "language": "python",
      "name": "python3"
    },
    "language_info": {
      "codemirror_mode": {
        "name": "ipython",
        "version": 3
      },
      "file_extension": ".py",
      "mimetype": "text/x-python",
      "name": "python",
      "nbconvert_exporter": "python",
      "pygments_lexer": "ipython3",
      "version": "3.9.7"
    },
    "colab": {
      "name": "05d_Fourier_transform_template.ipynb",
      "provenance": [],
      "include_colab_link": true
    }
  },
  "nbformat": 4,
  "nbformat_minor": 5
}