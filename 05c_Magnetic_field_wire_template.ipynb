{
  "cells": [
    {
      "cell_type": "markdown",
      "metadata": {
        "id": "view-in-github",
        "colab_type": "text"
      },
      "source": [
        "<a href=\"https://colab.research.google.com/github/Xavier-ML/Computational-Physics-with-Python/blob/main/05c_Magnetic_field_wire_template.ipynb\" target=\"_parent\"><img src=\"https://colab.research.google.com/assets/colab-badge.svg\" alt=\"Open In Colab\"/></a>"
      ]
    },
    {
      "cell_type": "markdown",
      "id": "f4419154",
      "metadata": {
        "id": "f4419154"
      },
      "source": [
        "# Magnetic field of a charged wire\n",
        "- Börge Göbel"
      ]
    },
    {
      "cell_type": "markdown",
      "id": "9342fb0f",
      "metadata": {
        "id": "9342fb0f"
      },
      "source": [
        "# ![hand](https://github.com/Xavier-ML/Computational-Physics-with-Python/blob/main/figure_05_hand.svg?raw=1)\n",
        "\n",
        "https://upload.wikimedia.org/wikipedia/commons/3/3e/Manoderecha.svg"
      ]
    },
    {
      "cell_type": "markdown",
      "id": "f402257f",
      "metadata": {
        "id": "f402257f"
      },
      "source": [
        "Using the Maxwell equations of magnetostatics (in their integral form) one can derive the vector potential of a current density distribution \\\\( \\vec{j}(\\vec{r}) \\\\)\n",
        "\n",
        "\\\\( \n",
        "\\vec{A}(\\vec{r})=\\frac{\\mu_0}{4\\pi}\\int\\frac{\\vec{j}(\\vec{r}')}{|\\vec{r}-\\vec{r}'|}\\,\\mathrm{d}V'\\\\\n",
        "\\\\)\n",
        "\n",
        "from which we can calculate the magnetic field \n",
        "\n",
        "\\\\( \n",
        "\\vec{B}(\\vec{r})=\\nabla\\times\\vec{A}(\\vec{r})\\\\\n",
        "\\\\)\n",
        "\n",
        "For more details on these equations, please consider my course: \"Electrodynamics based on Maxwell equations\" https://www.udemy.com/course/electrodynamics/"
      ]
    },
    {
      "cell_type": "code",
      "execution_count": null,
      "id": "ce2064a4",
      "metadata": {
        "id": "ce2064a4"
      },
      "outputs": [],
      "source": [
        "import numpy as np0\n",
        "import matplotlib.pyplot as plt"
      ]
    },
    {
      "cell_type": "markdown",
      "id": "73703056",
      "metadata": {
        "id": "73703056"
      },
      "source": [
        "### Straight wire\n",
        "\n",
        "- along z axis\n",
        "- very long: length \\\\( [-l_0,l_0]\\\\) (we will only consider the xy plane, because all other planes will behave equally)\n",
        "- very thin: radius \\\\(r_0\\\\) (basically non-zero only for x = 0, y = 0)"
      ]
    },
    {
      "cell_type": "code",
      "execution_count": null,
      "id": "5274b866",
      "metadata": {
        "id": "5274b866"
      },
      "outputs": [],
      "source": [
        "mu0 = 1\n",
        "\n",
        "# straight wire\n",
        "j0 = 1 # Ampere / meter^2\n",
        "r0 = 0.001 # m\n",
        "l0 = 1000 # m\n",
        "\n",
        "def j(r):\n",
        "    # if np.sqrt(r[0]**2 + r[1]**2) > r0:\n",
        "    # return np.array([0.0, 0.0, 0.0])\n",
        "    #else:\n",
        "        return np.array([0.0, 0.0, j0])"
      ]
    },
    {
      "cell_type": "code",
      "execution_count": null,
      "id": "42789278",
      "metadata": {
        "id": "42789278",
        "outputId": "e271037d-64ad-43d3-9b35-f58ac61f899b",
        "colab": {
          "base_uri": "https://localhost:8080/"
        }
      },
      "outputs": [
        {
          "output_type": "execute_result",
          "data": {
            "text/plain": [
              "array([0., 0., 1.])"
            ]
          },
          "metadata": {},
          "execution_count": 22
        }
      ],
      "source": [
        "j(np.array([0,0,5]))"
      ]
    },
    {
      "cell_type": "code",
      "source": [
        "coordMax = 4.9\n",
        "numpoints = 50\n",
        "d = 2*coordMax/(numpoints - 1)\n",
        "\n",
        "# coordinates\n",
        "coords = np.array(np.meshgrid(np.linspace(-coordMax, coordMax, numpoints), np.linspace(-coordMax, coordMax, numpoints), np.zeros(1)))\n"
      ],
      "metadata": {
        "id": "RNuooXlyevZ3"
      },
      "id": "RNuooXlyevZ3",
      "execution_count": null,
      "outputs": []
    },
    {
      "cell_type": "code",
      "source": [
        "print(coords[:,numpoints//2-1, numpoints//2,0])\n",
        "print(coords[:,numpoints//2, numpoints//2,0])"
      ],
      "metadata": {
        "id": "WH-i2Xlof4cl",
        "outputId": "7aa81854-4c0c-4134-d189-0fb41a862b9c",
        "colab": {
          "base_uri": "https://localhost:8080/"
        }
      },
      "id": "WH-i2Xlof4cl",
      "execution_count": null,
      "outputs": [
        {
          "output_type": "stream",
          "name": "stdout",
          "text": [
            "[ 0.1 -0.1  0. ]\n",
            "[0.1 0.1 0. ]\n"
          ]
        }
      ]
    },
    {
      "cell_type": "code",
      "source": [
        "#vector potencial\n",
        "\n",
        "A = np.array(np.meshgrid(np.zeros(numpoints), np.zeros(numpoints), np.zeros(1), indexing = \"ij\"))\n"
      ],
      "metadata": {
        "id": "BlruUHcUk3vp"
      },
      "id": "BlruUHcUk3vp",
      "execution_count": null,
      "outputs": []
    },
    {
      "cell_type": "code",
      "source": [
        "print(A[:,numpoints//2-1, numpoints//2,0])\n",
        "print(A[:,numpoints//2, numpoints//2,0])"
      ],
      "metadata": {
        "id": "4RHZV3MomuHD",
        "outputId": "913783fc-f48d-4097-d6c4-c2eb34e03b51",
        "colab": {
          "base_uri": "https://localhost:8080/"
        }
      },
      "id": "4RHZV3MomuHD",
      "execution_count": null,
      "outputs": [
        {
          "output_type": "stream",
          "name": "stdout",
          "text": [
            "[0. 0. 0.]\n",
            "[0. 0. 0.]\n"
          ]
        }
      ]
    },
    {
      "cell_type": "code",
      "source": [
        "numint = 5001\n",
        "\n",
        "for ix in np.arange(numpoints):\n",
        "    for iy in np.arange(numpoints):\n",
        "        # position r for which we are currently calculating A\n",
        "        r = np.array([-coordMax+ix*d, -coordMax+iy*d, 0.0])\n",
        "        for zj in np.linspace(-10,10,numint):\n",
        "            # we integrate of all rj in the wire\n",
        "            rj = np.array([0.0, 0.0, zj])\n",
        "            A[:,ix,iy,0] = A[:,ix,iy,0] + j(rj)/np.sqrt( r[0]**2 + r[1]**2 + rj[2]**2)\n"
      ],
      "metadata": {
        "id": "ZjVC56EGoEbS"
      },
      "id": "ZjVC56EGoEbS",
      "execution_count": null,
      "outputs": []
    },
    {
      "cell_type": "code",
      "source": [
        "dz = (2*l0) / (numint-1)\n",
        "#dx = (2*coordMax) / (numint-1)\n",
        "#dy = (2*coordMax) / (numint-1)\n",
        "#A = A * mu0 / (4*np.pi) * dx * dy * dz\n",
        "df = np.pi * r0**2\n",
        "A = A*mu0/(4*np.pi) * df *dz"
      ],
      "metadata": {
        "id": "wjcYa_lYzijn"
      },
      "id": "wjcYa_lYzijn",
      "execution_count": null,
      "outputs": []
    },
    {
      "cell_type": "code",
      "source": [
        "fig = plt.figure()\n",
        "ax = fig.add_subplot(1,1,1)\n",
        "ax.set_aspect(1)\n",
        "plt.xlabel(\"x coordinate\")\n",
        "plt.ylabel(\"y coordinate\")\n",
        "\n",
        "plt.contourf( coords[0,:,:,0], coords[1,:,:,0], A[2,:,:,0] )\n",
        "cbar = plt.colorbar()\n",
        "cbar.set_label(\"vectorpotencial Az\")"
      ],
      "metadata": {
        "id": "QB_g35qU1ZfH",
        "outputId": "b3fe15ac-800c-46e9-9a7e-9ed961763ef4",
        "colab": {
          "base_uri": "https://localhost:8080/",
          "height": 283
        }
      },
      "id": "QB_g35qU1ZfH",
      "execution_count": null,
      "outputs": [
        {
          "output_type": "display_data",
          "data": {
            "text/plain": [
              "<Figure size 432x288 with 2 Axes>"
            ],
            "image/png": "[encoded data removed]"
          },
          "metadata": {
            "needs_background": "light"
          }
        }
      ]
    },
    {
      "cell_type": "markdown",
      "id": "4794fa59",
      "metadata": {
        "id": "4794fa59"
      },
      "source": [
        "__Analytical solution:__\n",
        "\n",
        "\\\\( \\vec{A}(\\vec{r}) = \\frac{\\mu_0}{2\\pi}jF\\log\\frac{2l_0}{\\sqrt{x^2+y^2}}\\vec{e}_z\\\\)\n",
        "\n",
        "For more details on these equations, please consider my course: \"Electrodynamics based on Maxwell equations\" https://www.udemy.com/course/electrodynamics/\n",
        "\n",
        "![derivation_wire](https://github.com/Xavier-ML/Computational-Physics-with-Python/blob/main/figure_05_derivation_wire.png?raw=1)"
      ]
    },
    {
      "cell_type": "code",
      "execution_count": null,
      "id": "e197330e",
      "metadata": {
        "id": "e197330e"
      },
      "outputs": [],
      "source": [
        ""
      ]
    },
    {
      "cell_type": "markdown",
      "id": "bc0da924",
      "metadata": {
        "id": "bc0da924"
      },
      "source": [
        "__We can calculate the magnetic field__\n",
        "\n",
        "\\\\( \n",
        "\\vec{B}(\\vec{r})=\\nabla\\times\\vec{A}(\\vec{r})=\\begin{pmatrix}\n",
        "\\frac{\\partial}{\\partial y}A_z(\\vec{r}) - \\frac{\\partial}{\\partial z}A_y(\\vec{r})\\\\\n",
        "\\frac{\\partial}{\\partial z}A_x(\\vec{r}) - \\frac{\\partial}{\\partial x}A_z(\\vec{r})\\\\\n",
        "\\frac{\\partial}{\\partial x}A_y(\\vec{r}) - \\frac{\\partial}{\\partial y}A_x(\\vec{r})\\\\\n",
        "\\end{pmatrix}=\\begin{pmatrix}\n",
        "\\frac{\\partial}{\\partial y}A_z(\\vec{r})\\\\\n",
        " - \\frac{\\partial}{\\partial x}A_z(\\vec{r})\\\\\n",
        "\\frac{\\partial}{\\partial x}A_y(\\vec{r}) - \\frac{\\partial}{\\partial y}A_x(\\vec{r})\\\\\n",
        "\\end{pmatrix}\\\\\n",
        "\\\\)\n",
        "\n",
        "Since the vector potential only changes in the xy plane and is considered to be constant along z (for infinite \\\\(l_0\\\\)), we know\n",
        "\\\\( \n",
        "\\frac{\\partial }{\\partial z} A_x(\\vec{r}) = \\frac{\\partial }{\\partial z} A_y(\\vec{r}) = 0\n",
        "\\\\)"
      ]
    },
    {
      "cell_type": "markdown",
      "id": "baf9bf8f",
      "metadata": {
        "id": "baf9bf8f"
      },
      "source": [
        "__Analytical solution:__\n",
        "\n",
        "\\\\( \\vec{B}(\\vec{r}) = \\frac{\\mu_0}{2\\pi}jF\\frac{1}{\\sqrt{x^2+y^2}}\\begin{pmatrix}-y\\\\x\\\\0\\end{pmatrix}\\\\)"
      ]
    },
    {
      "cell_type": "code",
      "source": [
        ""
      ],
      "metadata": {
        "id": "krRnyQJz69j7"
      },
      "id": "krRnyQJz69j7",
      "execution_count": null,
      "outputs": []
    },
    {
      "cell_type": "code",
      "execution_count": null,
      "id": "86215d89",
      "metadata": {
        "id": "86215d89"
      },
      "outputs": [],
      "source": [
        ""
      ]
    },
    {
      "cell_type": "markdown",
      "id": "c501d3d6",
      "metadata": {
        "id": "c501d3d6"
      },
      "source": [
        "![hand](https://github.com/Xavier-ML/Computational-Physics-with-Python/blob/main/figure_05_hand.svg?raw=1)\n",
        "\n",
        "https://upload.wikimedia.org/wikipedia/commons/3/3e/Manoderecha.svg"
      ]
    }
  ],
  "metadata": {
    "kernelspec": {
      "display_name": "Python 3 (ipykernel)",
      "language": "python",
      "name": "python3"
    },
    "language_info": {
      "codemirror_mode": {
        "name": "ipython",
        "version": 3
      },
      "file_extension": ".py",
      "mimetype": "text/x-python",
      "name": "python",
      "nbconvert_exporter": "python",
      "pygments_lexer": "ipython3",
      "version": "3.9.7"
    },
    "colab": {
      "name": "Copia de 05c_Magnetic_field_wire_template.ipynb",
      "provenance": [],
      "collapsed_sections": [],
      "include_colab_link": true
    }
  },
  "nbformat": 4,
  "nbformat_minor": 5
}