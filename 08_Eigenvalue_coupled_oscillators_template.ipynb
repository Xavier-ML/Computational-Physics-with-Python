{
  "cells": [
    {
      "cell_type": "markdown",
      "metadata": {
        "id": "view-in-github",
        "colab_type": "text"
      },
      "source": [
        "<a href=\"https://colab.research.google.com/github/Xavier-ML/Computational-Physics-with-Python/blob/main/08_Eigenvalue_coupled_oscillators_template.ipynb\" target=\"_parent\"><img src=\"https://colab.research.google.com/assets/colab-badge.svg\" alt=\"Open In Colab\"/></a>"
      ]
    },
    {
      "cell_type": "markdown",
      "id": "48974d97",
      "metadata": {
        "id": "48974d97"
      },
      "source": [
        "# Eigenvalue problem: Coupled oscillators \n",
        "- by Börge Göbel"
      ]
    },
    {
      "cell_type": "code",
      "execution_count": 1,
      "id": "ce43e36c",
      "metadata": {
        "id": "ce43e36c"
      },
      "outputs": [],
      "source": [
        "import numpy as np\n",
        "from scipy import integrate\n",
        "import matplotlib.pyplot as plt"
      ]
    },
    {
      "cell_type": "markdown",
      "id": "421f538a",
      "metadata": {
        "id": "421f538a"
      },
      "source": [
        "![Coupled_oscillators](figure_08_coupled_oscillators.png)![figure_08_coupled_oscillators.png](data:image/png;base64,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)"
      ]
    },
    {
      "cell_type": "markdown",
      "id": "ef352f47",
      "metadata": {
        "id": "ef352f47"
      },
      "source": [
        "\\begin{align}\n",
        "m\\ddot{r}_1 &= -k(r_1-r_l-a) -k(r_1-r_2-a)\\\\\n",
        "m\\ddot{r}_2 &= -k(r_2-r_1-a) -k(r_2-r_3-a)\\\\\n",
        "m\\ddot{r}_3 &= -k(r_3-r_2-a) -k(r_3-r_r-a)\n",
        "\\end{align}\n",
        "\n",
        "The constants can be dropped, since we can transform \\\\( (r_1 - a) \\rightarrow r_1, (r_2 - 2a) \\rightarrow r_2, (r_3 - 3a) \\rightarrow r_3, \\\\) and use \\\\(r_l=0, r_r=4a\\\\)\n",
        "\n",
        "\\begin{align}\n",
        "m\\ddot{r}_1 &= -k(r_1) -k(r_1-r_2)\\\\\n",
        "m\\ddot{r}_2 &= -k(r_2-r_1) -k(r_2-r_3)\\\\\n",
        "m\\ddot{r}_3 &= -k(r_3-r_2) -k(r_3)\n",
        "\\end{align}\n",
        "\n",
        "This is identical to\n",
        "\n",
        "\\begin{align}\n",
        "\\begin{pmatrix}\\ddot{r}_1\\\\\\ddot{r}_2\\\\\\ddot{r}_3\\end{pmatrix}=-\\frac{k}{m}\n",
        "\\begin{pmatrix}2&-1&0\\\\-1&2&-1\\\\0&-1&2\\end{pmatrix}\n",
        "\\begin{pmatrix}r_1\\\\ r_2\\\\ r_3\\end{pmatrix}\n",
        "\\end{align}\n",
        "\n",
        "We can, of course, solve this system of equations numerically. "
      ]
    },
    {
      "cell_type": "markdown",
      "id": "86a7ad2c",
      "metadata": {
        "id": "86a7ad2c"
      },
      "source": [
        "## 1. Solving the coupled differential equations numerically "
      ]
    },
    {
      "cell_type": "code",
      "execution_count": 2,
      "id": "3b46f20b",
      "metadata": {
        "id": "3b46f20b"
      },
      "outputs": [],
      "source": [
        "k=1\n",
        "m=1\n",
        "\n",
        "def f_3osc(t,y):\n",
        "    r = y[0:3]\n",
        "    v = y[3:6]\n",
        "    eq1 = (2*r[0] -r[1])*-k/m\n",
        "    eq2 = (-r[0]+2*r[1]-r[2])*-k/m\n",
        "    eq3 = (-r[1]+2*r[2])*-k/m\n",
        "    return [v[0],v[1],v[2], eq1, eq2, eq3]"
      ]
    },
    {
      "cell_type": "code",
      "source": [
        "yStart = 0.3*(2*np.random.rand(6)-1)*1"
      ],
      "metadata": {
        "id": "n2aIichG1LSm"
      },
      "id": "n2aIichG1LSm",
      "execution_count": 3,
      "outputs": []
    },
    {
      "cell_type": "code",
      "source": [
        "yStart"
      ],
      "metadata": {
        "colab": {
          "base_uri": "https://localhost:8080/"
        },
        "id": "hnca_zut1V_Y",
        "outputId": "569a5428-dc31-43a1-e346-dce088a21676"
      },
      "id": "hnca_zut1V_Y",
      "execution_count": 4,
      "outputs": [
        {
          "output_type": "execute_result",
          "data": {
            "text/plain": [
              "array([ 0.25098234,  0.15110287, -0.08842525, -0.23944272, -0.0468387 ,\n",
              "        0.28750116])"
            ]
          },
          "metadata": {},
          "execution_count": 4
        }
      ]
    },
    {
      "cell_type": "code",
      "source": [
        "tStart = 0\n",
        "tEnd = 100\n",
        "\n",
        "a = 1\n",
        "\n",
        "yStart = 0.3*(2*np.random.rand(6)-1)*a\n",
        "\n",
        "solution_3osc = integrate.solve_ivp(f_3osc, [tStart, tEnd], yStart, method = \"RK45\", t_eval = np.linspace(tStart, tEnd, 10001))"
      ],
      "metadata": {
        "id": "MySraCkIzY3B"
      },
      "id": "MySraCkIzY3B",
      "execution_count": 5,
      "outputs": []
    },
    {
      "cell_type": "code",
      "source": [
        "plt.xlabel(\"Time t\")\n",
        "plt.ylabel(\"Coordinates\")\n",
        "\n",
        "plt.plot(solution_3osc.t, solution_3osc.y[0] + 1*a)\n",
        "plt.plot(solution_3osc.t, solution_3osc.y[1] + 2*a)\n",
        "plt.plot(solution_3osc.t, solution_3osc.y[2] + 3*a)"
      ],
      "metadata": {
        "colab": {
          "base_uri": "https://localhost:8080/",
          "height": 296
        },
        "id": "q6cuI-eF0RVZ",
        "outputId": "05a5bdf0-6ea1-44b4-bde6-45e7f3458ef5"
      },
      "id": "q6cuI-eF0RVZ",
      "execution_count": 6,
      "outputs": [
        {
          "output_type": "execute_result",
          "data": {
            "text/plain": [
              "[<matplotlib.lines.Line2D at 0x7f8ba8eeacd0>]"
            ]
          },
          "metadata": {},
          "execution_count": 6
        },
        {
          "output_type": "display_data",
          "data": {
            "text/plain": [
              "<Figure size 432x288 with 1 Axes>"
            ],
            "image/png": "[encoded data removed]"
          },
          "metadata": {
            "needs_background": "light"
          }
        }
      ]
    },
    {
      "cell_type": "markdown",
      "id": "6a70a97b",
      "metadata": {
        "id": "6a70a97b"
      },
      "source": [
        "## 2. The eigenvalue problem"
      ]
    },
    {
      "cell_type": "markdown",
      "id": "462014cf",
      "metadata": {
        "id": "462014cf"
      },
      "source": [
        "### 2.1 Why is it an eigenvalue problem?"
      ]
    },
    {
      "cell_type": "markdown",
      "id": "6392a25b",
      "metadata": {
        "id": "6392a25b"
      },
      "source": [
        "The equation for 3 oscillators was \n",
        "\n",
        "\\begin{align}\n",
        "\\begin{pmatrix}\\ddot{r}_1\\\\\\ddot{r}_2\\\\\\ddot{r}_3\\end{pmatrix}=-\\frac{k}{m}\n",
        "\\begin{pmatrix}2&-1&0\\\\-1&2&-1\\\\0&-1&2\\end{pmatrix}\n",
        "\\begin{pmatrix}r_1\\\\ r_2\\\\ r_3\\end{pmatrix}\n",
        "\\end{align}\n",
        "\n",
        "Solving the system numerically is nice. However, it would be much easier if the matrix would be just a diagonal matrix or even a scalar:\n",
        "\n",
        "\\begin{align}\n",
        "\\begin{pmatrix}\\ddot{q}_1\\\\\\ddot{q}_2\\\\\\ddot{q}_3\\end{pmatrix}=-\\frac{k}{m}\n",
        "\\lambda\n",
        "\\begin{pmatrix}q_1\\\\ q_2\\\\ q_3\\end{pmatrix}\n",
        "\\end{align}\n",
        "\n",
        "In this case the solution would be harmonic oscillators with a frequency \\\\( \\omega = \\sqrt{\\frac{k}{m}\\lambda}\\\\). \n",
        "\n",
        "We must find a unitary matrix \\\\(\\underline{u}\\\\) with \\\\(\\underline{u}^{-1}\\underline{u} = \\underline{u}\\,\\underline{u}^{-1} = 1\\\\) and \\\\( \\underline{u}^{-1}\\underline{A}\\,\\underline{u} = \\lambda\\\\) so that\n",
        "\n",
        "\\begin{align} \n",
        "\\ddot{\\vec{r}}&=-\\frac{k}{m}\\underline{A}\\vec{r}\\\\\n",
        "\\ddot{\\vec{r}}&=-\\frac{k}{m}\\left(\\underline{u}\\,\\underline{u}^{-1}\\right)\\,\\underline{A}\\,\\left(\\underline{u}\\,\\underline{u}^{-1}\\right)\\vec{r}\\\\\n",
        "\\left(\\underline{u}^{-1}\\ddot{\\vec{r}}\\right)&=-\\frac{k}{m}\\left(\\underline{u}^{-1}\\,\\underline{A}\\,\\underline{u}\\right)\\,\\left(\\underline{u}^{-1}\\vec{r}\\right)\\\\\n",
        "\\ddot{\\vec{q}}&=-\\frac{k}{m}\\lambda \\vec{q}\n",
        "\\end{align}"
      ]
    },
    {
      "cell_type": "markdown",
      "id": "1a38f224",
      "metadata": {
        "id": "1a38f224"
      },
      "source": [
        "This means we must find:\n",
        "\n",
        "\\begin{align}\n",
        "\\underline{u}^{-1}\\,\\underline{A}\\,\\underline{u} &= \\lambda\\\\\n",
        "\\underline{A}\\,\\underline{u} &= \\lambda\\underline{u}\n",
        "\\end{align}\n",
        "\n",
        "or\n",
        "\n",
        "\\begin{align}\n",
        "\\underline{u}^{-1}\\,\\underline{A}\\,\\underline{u}\\vec{r} &= \\lambda\\vec{r}\\\\\n",
        "\\underline{A}\\,\\underline{u}\\vec{r} &= \\lambda\\underline{u}\\vec{r}\\\\\n",
        "\\end{align}\n",
        "\n",
        "In other words, we must find the eigenvalues and eigenvectors of \\\\( \\underline{A} \\\\)."
      ]
    },
    {
      "cell_type": "markdown",
      "id": "3751672b",
      "metadata": {
        "id": "3751672b"
      },
      "source": [
        "### a) Calculate the eigenvalues using a numpy routine"
      ]
    },
    {
      "cell_type": "markdown",
      "id": "428ab94f",
      "metadata": {
        "id": "428ab94f"
      },
      "source": [
        "We want to determine the eigenvalues of the matrix\n",
        "\n",
        "\\begin{align}\n",
        "\\underline{A} = \\begin{pmatrix}2&-1&0\\\\-1&2&-1\\\\0&-1&2\\end{pmatrix}\n",
        "\\end{align}"
      ]
    },
    {
      "cell_type": "code",
      "execution_count": 8,
      "id": "218c128a",
      "metadata": {
        "id": "218c128a"
      },
      "outputs": [],
      "source": [
        "A = np.array([[2,-1,0],[-1,2,-1],[0,-1,2]])"
      ]
    },
    {
      "cell_type": "code",
      "execution_count": 9,
      "id": "408a3296",
      "metadata": {
        "id": "408a3296",
        "colab": {
          "base_uri": "https://localhost:8080/"
        },
        "outputId": "cd65f68e-9280-4305-d119-fdd41b5b520f"
      },
      "outputs": [
        {
          "output_type": "execute_result",
          "data": {
            "text/plain": [
              "array([3.41421356, 2.        , 0.58578644])"
            ]
          },
          "metadata": {},
          "execution_count": 9
        }
      ],
      "source": [
        "np.linalg.eigvals(A)"
      ]
    },
    {
      "cell_type": "markdown",
      "id": "5959358c",
      "metadata": {
        "id": "5959358c"
      },
      "source": [
        "### b) Exercise: Program a routine ourselves"
      ]
    },
    {
      "cell_type": "markdown",
      "id": "5e3f01ba",
      "metadata": {
        "id": "5e3f01ba"
      },
      "source": [
        "We have to solve the following equation\n",
        "\n",
        "\\begin{align}\n",
        "0 = \\det(\\underline{A}-\\lambda\\underline{1})\n",
        "\\end{align}"
      ]
    },
    {
      "cell_type": "code",
      "execution_count": 11,
      "id": "5d4856c1",
      "metadata": {
        "id": "5d4856c1"
      },
      "outputs": [],
      "source": [
        "def det3(A):\n",
        "    term1 = A[0,0]*(A[1,1]*A[2,2] - A[1,2]*A[2,1])\n",
        "    term2 = A[1,0]*(A[0,1]*A[2,2] - A[0,2]*A[2,1])\n",
        "    term3 = A[2,0]*(A[0,1]*A[1,2] - A[1,2]*A[1,1])\n",
        "    return term1 - term2 + term3"
      ]
    },
    {
      "cell_type": "markdown",
      "id": "2d0916fd",
      "metadata": {
        "id": "2d0916fd"
      },
      "source": [
        "\\begin{align}\n",
        "0 &= \\det\\begin{pmatrix}2-\\lambda&-1&0\\\\-1&2-\\lambda&-1\\\\0&-1&2-\\lambda\\end{pmatrix}\\\\\n",
        "0 &= (2-\\lambda)\\det\\begin{pmatrix}2-\\lambda&-1\\\\-1&2-\\lambda\\end{pmatrix}-(-1)\\det\\begin{pmatrix}-1&-1\\\\0&2-\\lambda\\end{pmatrix}\\\\\n",
        "0 &= (2-\\lambda)^3-(2-\\lambda)-(2-\\lambda)\\\\\n",
        "0 &= -\\lambda^3 +6\\lambda^2 - 12\\lambda + 8 -4 +2\\lambda\n",
        "\\end{align}\n",
        "\n",
        "We have to find the roots of a cubic function (characteristic polynomial)\n",
        "\n",
        "\\begin{align}\n",
        "0 &= -\\lambda^3 +6\\lambda^2 - 10\\lambda + 4\n",
        "\\end{align}"
      ]
    },
    {
      "cell_type": "code",
      "execution_count": 12,
      "id": "d799f5d4",
      "metadata": {
        "id": "d799f5d4"
      },
      "outputs": [],
      "source": [
        "def characteristicPolynomial(x):\n",
        "    return det3(A - x*np.identity(3))"
      ]
    },
    {
      "cell_type": "code",
      "source": [
        "def findRoot(f, n, xmin, xmax, startStep):\n",
        "    # f: function\n",
        "    # n: Number of roots\n",
        "    # [xmin, xmax]: Range in which the roots are expected\n",
        "    # startStep: Starting value for the step\n",
        "    x = xmin\n",
        "    d = startStep\n",
        "    signA = np.sign(f(x))\n",
        "    signB = np.sign(f(x))\n",
        "    root = []\n",
        "    while len(root) < n:\n",
        "        while d > 0.00001:\n",
        "            # compare sign of neighboring points\n",
        "            while signA-signB == 0:\n",
        "                signA = signB\n",
        "                x = x + d\n",
        "                signB = np.sign(f(x))\n",
        "            # decrease d whenever the sign changes until desired accuracy is reached\n",
        "            x = x-d\n",
        "            signA = np.sign(f(x-d))\n",
        "            signB = np.sign(f(x))\n",
        "            d = d*0.1\n",
        "        # store x in root\n",
        "        root.append(x)\n",
        "        # reset d\n",
        "        d = startStep\n",
        "        # go to next x and reset signs\n",
        "        x = x + d\n",
        "        signA = np.sign(f(x))\n",
        "        signB = np.sign(f(x))\n",
        "    return root\n"
      ],
      "metadata": {
        "id": "BOssAB5vlrFu"
      },
      "id": "BOssAB5vlrFu",
      "execution_count": 14,
      "outputs": []
    },
    {
      "cell_type": "code",
      "source": [
        "findRoot(characteristicPolynomial, 3, 0, 4, 0.01)"
      ],
      "metadata": {
        "colab": {
          "base_uri": "https://localhost:8080/"
        },
        "id": "q0f5qE0duQ0n",
        "outputId": "1a22913c-bfcc-4928-d378-50d9735e0627"
      },
      "id": "q0f5qE0duQ0n",
      "execution_count": 15,
      "outputs": [
        {
          "output_type": "execute_result",
          "data": {
            "text/plain": [
              "[0.5857000000000002, 1.9999000000000013, 3.4141999999999717]"
            ]
          },
          "metadata": {},
          "execution_count": 15
        }
      ]
    },
    {
      "cell_type": "markdown",
      "id": "1bc60590",
      "metadata": {
        "id": "1bc60590"
      },
      "source": [
        "### c) Analyzing the eigensystem"
      ]
    },
    {
      "cell_type": "markdown",
      "id": "a59c622a",
      "metadata": {
        "id": "a59c622a"
      },
      "source": [
        "The analytical solutions are:\n",
        "\\\\( \\quad \\lambda_1 = 2+\\sqrt{2}, \\lambda_2 = 2, \\quad \\lambda_3 = 2-\\sqrt{2}\\\\)\n",
        "\n",
        "This leads us to the eigenfrequencies: \\\\( \\omega = \\sqrt{\\frac{k}{m}\\lambda}\\\\)\n",
        "\n",
        "\\begin{align} \n",
        "\\omega_1 = \\sqrt{\\frac{k}{m}}\\sqrt{2+\\sqrt{2}}, \\quad \\omega_2 = \\sqrt{\\frac{k}{m}}\\sqrt{2}, \\quad \\omega_3 = \\sqrt{\\frac{k}{m}}\\sqrt{2-\\sqrt{2}}\n",
        "\\end{align}"
      ]
    },
    {
      "cell_type": "code",
      "execution_count": 16,
      "id": "78cc94f8",
      "metadata": {
        "id": "78cc94f8",
        "colab": {
          "base_uri": "https://localhost:8080/"
        },
        "outputId": "6764679d-ce88-462a-fd57-4d5cc0145276"
      },
      "outputs": [
        {
          "output_type": "execute_result",
          "data": {
            "text/plain": [
              "(array([3.41421356, 2.        , 0.58578644]),\n",
              " array([[-5.00000000e-01, -7.07106781e-01,  5.00000000e-01],\n",
              "        [ 7.07106781e-01,  4.05405432e-16,  7.07106781e-01],\n",
              "        [-5.00000000e-01,  7.07106781e-01,  5.00000000e-01]]))"
            ]
          },
          "metadata": {},
          "execution_count": 16
        }
      ],
      "source": [
        "np.linalg.eig(A)"
      ]
    },
    {
      "cell_type": "markdown",
      "id": "6fefcf01",
      "metadata": {
        "id": "6fefcf01"
      },
      "source": [
        "The eigenvectors are \n",
        "\\begin{align}\n",
        "\\begin{pmatrix}-\\frac{1}{2}\\\\\\frac{1}{\\sqrt{2}}\\\\-\\frac{1}{2}\\end{pmatrix}\\quad\\quad\n",
        "\\begin{pmatrix}-\\frac{1}{\\sqrt{2}}\\\\0\\\\\\frac{1}{\\sqrt{2}}\\end{pmatrix}\\quad\\quad\n",
        "\\begin{pmatrix}\\frac{1}{2}\\\\\\frac{1}{\\sqrt{2}}\\\\\\frac{1}{2}\\end{pmatrix}\n",
        "\\end{align}"
      ]
    },
    {
      "cell_type": "markdown",
      "id": "2971acc0",
      "metadata": {
        "id": "2971acc0"
      },
      "source": [
        "## 3. Fourier transform"
      ]
    },
    {
      "cell_type": "markdown",
      "id": "734a9800",
      "metadata": {
        "id": "734a9800"
      },
      "source": [
        "\\begin{align}\n",
        "\\tilde{y}(\\omega) = \\frac{1}{\\sqrt{2\\pi}} \\int_{-\\infty}^{\\infty} y(t) e^{i\\omega t}\\mathrm{d}t\n",
        "\\end{align}"
      ]
    },
    {
      "cell_type": "code",
      "execution_count": 24,
      "id": "3bd63c85",
      "metadata": {
        "id": "3bd63c85"
      },
      "outputs": [],
      "source": [
        "def integralTrapezoidal(data):\n",
        "    a = 0\n",
        "    for i in range( len(data[0]) -1 ):\n",
        "        a = a + ( data[1,i+1] + data[1,i] ) / 2 * (data[0,i+1] - data[0,i])\n",
        "    return a"
      ]
    },
    {
      "cell_type": "code",
      "execution_count": 25,
      "id": "81b082f5",
      "metadata": {
        "id": "81b082f5",
        "colab": {
          "base_uri": "https://localhost:8080/",
          "height": 296
        },
        "outputId": "8b912dbb-65bd-4ad9-f2f5-44ce749fd2a7"
      },
      "outputs": [
        {
          "output_type": "execute_result",
          "data": {
            "text/plain": [
              "[<matplotlib.lines.Line2D at 0x7f8b9fb6e490>]"
            ]
          },
          "metadata": {},
          "execution_count": 25
        },
        {
          "output_type": "display_data",
          "data": {
            "text/plain": [
              "<Figure size 432x288 with 1 Axes>"
            ],
            "image/png": "[encoded data removed]"
          },
          "metadata": {
            "needs_background": "light"
          }
        }
      ],
      "source": [
        "plt.xlabel(\"Time t\")\n",
        "plt.ylabel(\"Coordinates\")\n",
        "\n",
        "plt.plot(solution_3osc.t, solution_3osc.y[0] + 1*a)\n",
        "plt.plot(solution_3osc.t, solution_3osc.y[1] + 2*a)\n",
        "plt.plot(solution_3osc.t, solution_3osc.y[2] + 3*a)"
      ]
    },
    {
      "cell_type": "code",
      "source": [
        "ft = np.array(\n",
        "    [[[om,\n",
        "    integralTrapezoidal( np.array([solution_3osc.t, 1/np.sqrt(2*np.pi) * solution_3osc.y[i]*np.exp(1j*om*solution_3osc.t)]) )] for om in np.linspace(0,3,301)]\n",
        "    for i in range(3)]\n",
        ")"
      ],
      "metadata": {
        "id": "7WaQyRI71nnb"
      },
      "id": "7WaQyRI71nnb",
      "execution_count": 36,
      "outputs": []
    },
    {
      "cell_type": "code",
      "source": [
        "plt.xlabel(\"Frecuency omega\")\n",
        "plt.ylabel(\"Intensity FT\")\n",
        "plt.plot(ft[0,:,0].real, abs(ft[0,:,1])**2)\n",
        "plt.show()\n",
        "\n",
        "plt.xlabel(\"Frecuency omega\")\n",
        "plt.ylabel(\"Intensity FT\")\n",
        "plt.plot(ft[1,:,0].real, abs(ft[1,:,1])**2)\n",
        "plt.show()\n",
        "\n",
        "plt.xlabel(\"Frecuency omega\")\n",
        "plt.ylabel(\"Intensity FT\")\n",
        "plt.plot(ft[2,:,0].real, abs(ft[2,:,1])**2)\n",
        "plt.show()"
      ],
      "metadata": {
        "colab": {
          "base_uri": "https://localhost:8080/",
          "height": 805
        },
        "id": "Ceh2QerO6tDb",
        "outputId": "822a63ea-cea5-4ca9-cc38-f2a7cef3692a"
      },
      "id": "Ceh2QerO6tDb",
      "execution_count": 37,
      "outputs": [
        {
          "output_type": "display_data",
          "data": {
            "text/plain": [
              "<Figure size 432x288 with 1 Axes>"
            ],
            "image/png": "[encoded data removed]"
          },
          "metadata": {
            "needs_background": "light"
          }
        },
        {
          "output_type": "display_data",
          "data": {
            "text/plain": [
              "<Figure size 432x288 with 1 Axes>"
            ],
            "image/png": "[encoded data removed]"
          },
          "metadata": {
            "needs_background": "light"
          }
        },
        {
          "output_type": "display_data",
          "data": {
            "text/plain": [
              "<Figure size 432x288 with 1 Axes>"
            ],
            "image/png": "[encoded data removed]"
          },
          "metadata": {
            "needs_background": "light"
          }
        }
      ]
    },
    {
      "cell_type": "markdown",
      "id": "a5999d83",
      "metadata": {
        "id": "a5999d83"
      },
      "source": [
        "Eigenvalues:\n",
        "\n",
        "\\begin{align} \n",
        "\\omega_1 = \\sqrt{\\frac{k}{m}}\\sqrt{2+\\sqrt{2}}, \\quad \\omega_2 = \\sqrt{\\frac{k}{m}}\\sqrt{2}, \\quad \\omega_3 = \\sqrt{\\frac{k}{m}}\\sqrt{2-\\sqrt{2}}\n",
        "\\end{align}\n",
        "\n",
        "Eigenvectors:\n",
        "\n",
        "\\begin{align}\n",
        "\\begin{pmatrix}-\\frac{1}{2}\\\\\\frac{1}{\\sqrt{2}}\\\\-\\frac{1}{2}\\end{pmatrix}\\quad\\quad\n",
        "\\begin{pmatrix}-\\frac{1}{\\sqrt{2}}\\\\0\\\\\\frac{1}{\\sqrt{2}}\\end{pmatrix}\\quad\\quad\n",
        "\\begin{pmatrix}\\frac{1}{2}\\\\\\frac{1}{\\sqrt{2}}\\\\\\frac{1}{2}\\end{pmatrix}\n",
        "\\end{align}"
      ]
    },
    {
      "cell_type": "code",
      "execution_count": 40,
      "id": "75377957",
      "metadata": {
        "id": "75377957",
        "colab": {
          "base_uri": "https://localhost:8080/"
        },
        "outputId": "59f613a0-5d98-4aca-e398-330899557af5"
      },
      "outputs": [
        {
          "output_type": "stream",
          "name": "stdout",
          "text": [
            "1.8477590650225735\n",
            "1.4142135623730951\n",
            "0.7653668647301795\n"
          ]
        }
      ],
      "source": [
        "omega1 = np.sqrt(k/m)*np.sqrt(2 + np.sqrt(2))\n",
        "omega2 = np.sqrt(k/m)*np.sqrt(2)\n",
        "omega3 = np.sqrt(k/m)*np.sqrt(2 - np.sqrt(2))\n",
        "\n",
        "print(omega1)\n",
        "print(omega2)\n",
        "print(omega3)"
      ]
    },
    {
      "cell_type": "markdown",
      "id": "d4b025b0",
      "metadata": {
        "id": "d4b025b0"
      },
      "source": [
        "## 4. Fit harmonic functions with the eigenfrequency to the numerical solution"
      ]
    },
    {
      "cell_type": "code",
      "execution_count": null,
      "id": "f8924520",
      "metadata": {
        "id": "f8924520"
      },
      "outputs": [],
      "source": []
    },
    {
      "cell_type": "markdown",
      "id": "17ef80b2",
      "metadata": {
        "id": "17ef80b2"
      },
      "source": [
        "We consider the model function \n",
        "\n",
        "\\\\( f(t) = A_1\\cos(\\omega_1t+\\phi_1) + A_2\\cos(\\omega_2t+\\phi_2) + A_3\\cos(\\omega_3t+\\phi_3)\\\\)\n",
        "\n",
        "The fitting parameters are\n",
        "\n",
        "\\\\( \\vec{a} = (A_1, \\phi_1, A_2, \\phi_2, A_3, \\phi_3)\\\\)"
      ]
    },
    {
      "cell_type": "code",
      "execution_count": null,
      "id": "a65fab92",
      "metadata": {
        "id": "a65fab92"
      },
      "outputs": [],
      "source": [
        "def functionModel(t, a):\n",
        "    return a[0]*np.cos(omega1*t+a[1]) + a[2]*np.cos(omega2*t+a[3]) + a[4]*np.cos(omega3*t+a[5])"
      ]
    },
    {
      "cell_type": "markdown",
      "id": "ee572618",
      "metadata": {
        "id": "ee572618"
      },
      "source": [
        "There are many reasonable definitions of an error function but a very common choice is: \\\\( \\Delta = \\sum_{i=1}^n \\left(y_i-f(x_i)\\right)^2\\\\)\n",
        "\n",
        "\\\\( f \\\\) is the fit function that is determined by the coefficients \\\\( a_i \\\\) in our case.\n",
        "\n",
        "\\\\( (x_i, y_i) \\\\) are the data points that we try to fit."
      ]
    },
    {
      "cell_type": "code",
      "execution_count": null,
      "id": "562af681",
      "metadata": {
        "id": "562af681"
      },
      "outputs": [],
      "source": []
    },
    {
      "cell_type": "markdown",
      "id": "a74ea56d",
      "metadata": {
        "id": "a74ea56d"
      },
      "source": [
        "We can use several different methods to minimize the error, e. g. a Monte-Carlo algorithm. Here, we will use the gradient descent method. The coefficients \\\\( a_i \\\\) will be updated along the gradient direction of the error function \\\\( \\nabla_{\\vec{a}} \\Delta\\\\). The gradient consists of elements \\\\( \\frac{\\partial}{\\partial a_k} \\Delta = -2 \\sum_{i=1}^n \\left(y_i-f(x_i)\\right) \\frac{\\partial}{\\partial a_k}f(x_i) \\\\)\n",
        "\n",
        "\\\\( \\nabla_{\\vec{a}} \\Delta = \\begin{pmatrix}\n",
        "\\cos(\\omega_1t+\\phi_1)\\\\\n",
        "-A_1\\sin(\\omega_1t+\\phi_1)\\\\\n",
        "\\cos(\\omega_2t+\\phi_2)\\\\\n",
        "-A_2\\sin(\\omega_2t+\\phi_2)\\\\\n",
        "\\cos(\\omega_3t+\\phi_3)\\\\\n",
        "-A_3\\sin(\\omega_3t+\\phi_3)\n",
        "\\end{pmatrix}\\\\)"
      ]
    },
    {
      "cell_type": "code",
      "execution_count": null,
      "id": "be90b0f2",
      "metadata": {
        "id": "be90b0f2"
      },
      "outputs": [],
      "source": []
    },
    {
      "cell_type": "markdown",
      "id": "c622375b",
      "metadata": {
        "id": "c622375b"
      },
      "source": [
        "## 5. Generalization to n oscillators"
      ]
    },
    {
      "cell_type": "code",
      "execution_count": null,
      "id": "424c4358",
      "metadata": {
        "id": "424c4358"
      },
      "outputs": [],
      "source": []
    },
    {
      "cell_type": "markdown",
      "id": "6b0e121f",
      "metadata": {
        "id": "6b0e121f"
      },
      "source": [
        "### 5.1 Numerical solution"
      ]
    },
    {
      "cell_type": "code",
      "execution_count": null,
      "id": "e1d635a9",
      "metadata": {
        "id": "e1d635a9"
      },
      "outputs": [],
      "source": []
    },
    {
      "cell_type": "markdown",
      "id": "7ec3537d",
      "metadata": {
        "id": "7ec3537d"
      },
      "source": [
        "### 5.2 Eigenfrequencies"
      ]
    },
    {
      "cell_type": "code",
      "execution_count": null,
      "id": "1993074f",
      "metadata": {
        "id": "1993074f"
      },
      "outputs": [],
      "source": []
    },
    {
      "cell_type": "markdown",
      "id": "e7fb7035",
      "metadata": {
        "id": "e7fb7035"
      },
      "source": [
        "### 5.3 Fourier transform"
      ]
    },
    {
      "cell_type": "code",
      "execution_count": null,
      "id": "c7a7bf9d",
      "metadata": {
        "id": "c7a7bf9d"
      },
      "outputs": [],
      "source": []
    },
    {
      "cell_type": "markdown",
      "id": "e33a2996",
      "metadata": {
        "id": "e33a2996"
      },
      "source": [
        "## 6. Alternative geometry: Periodic boundary conditions"
      ]
    },
    {
      "cell_type": "markdown",
      "id": "3d3109d6",
      "metadata": {
        "id": "3d3109d6"
      },
      "source": [
        "![Coupled_oscillators_circle](figure_08_coupled_oscillators_circle.png)"
      ]
    },
    {
      "cell_type": "markdown",
      "id": "38f94aae",
      "metadata": {
        "id": "38f94aae"
      },
      "source": [
        "\\\\( \n",
        "\\begin{pmatrix}\\ddot{r}_1\\\\\\ddot{r}_2\\\\\\ddot{r}_3\\\\\\ddot{r}_4\\\\\\ddot{r}_5\\\\\\ddot{r}_6\\end{pmatrix}=-\\frac{k}{m}\n",
        "\\begin{pmatrix}2&-1&0&0&0&-1\\\\-1&2&-1&0&0&0\\\\0&-1&2&-1&0&0\\\\0&0&-1&2&-1&0\\\\0&0&0&-1&2&-1\\\\-1&0&0&0&-1&2&\\end{pmatrix}\n",
        "\\begin{pmatrix}r_1\\\\ r_2\\\\ r_3\\\\r_4\\\\ r_5\\\\ r_6\\end{pmatrix}\n",
        "\\\\)"
      ]
    },
    {
      "cell_type": "code",
      "execution_count": null,
      "id": "3e42f950",
      "metadata": {
        "id": "3e42f950"
      },
      "outputs": [],
      "source": []
    },
    {
      "cell_type": "markdown",
      "id": "9d476ab4",
      "metadata": {
        "id": "9d476ab4"
      },
      "source": [
        "### 6.1 Numerical solution"
      ]
    },
    {
      "cell_type": "code",
      "execution_count": null,
      "id": "4b9e965f",
      "metadata": {
        "id": "4b9e965f"
      },
      "outputs": [],
      "source": []
    },
    {
      "cell_type": "markdown",
      "id": "24971161",
      "metadata": {
        "id": "24971161"
      },
      "source": [
        "### 6.2 Eigenfrequencies"
      ]
    },
    {
      "cell_type": "code",
      "execution_count": null,
      "id": "feac9741",
      "metadata": {
        "id": "feac9741"
      },
      "outputs": [],
      "source": []
    },
    {
      "cell_type": "markdown",
      "id": "9a48308a",
      "metadata": {
        "id": "9a48308a"
      },
      "source": [
        "The first eigenvalue is zero. The corresponding mode is the translation that is allowed due to the periodic boundary conditions. It was forbidden before, since the system had fixed edges.\n",
        "\n",
        "Numerically, this value will be a very small number. Here it is negative which gives an error when calculating the square root. The correct value for the square root (and the frequency) is zero: The eigenmode is not an oscillation but a translation."
      ]
    }
  ],
  "metadata": {
    "kernelspec": {
      "display_name": "Python 3 (ipykernel)",
      "language": "python",
      "name": "python3"
    },
    "language_info": {
      "codemirror_mode": {
        "name": "ipython",
        "version": 3
      },
      "file_extension": ".py",
      "mimetype": "text/x-python",
      "name": "python",
      "nbconvert_exporter": "python",
      "pygments_lexer": "ipython3",
      "version": "3.9.7"
    },
    "colab": {
      "provenance": [],
      "include_colab_link": true
    }
  },
  "nbformat": 4,
  "nbformat_minor": 5
}