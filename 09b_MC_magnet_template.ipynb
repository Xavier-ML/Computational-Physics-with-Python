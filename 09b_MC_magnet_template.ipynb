{
  "cells": [
    {
      "cell_type": "markdown",
      "metadata": {
        "id": "view-in-github",
        "colab_type": "text"
      },
      "source": [
        "<a href=\"https://colab.research.google.com/github/Xavier-ML/Computational-Physics-with-Python/blob/main/09b_MC_magnet_template.ipynb\" target=\"_parent\"><img src=\"https://colab.research.google.com/assets/colab-badge.svg\" alt=\"Open In Colab\"/></a>"
      ]
    },
    {
      "cell_type": "markdown",
      "id": "7daba201",
      "metadata": {
        "id": "7daba201"
      },
      "source": [
        "# Simulating a magnet using a Monte Carlo algorithm\n",
        "\n",
        "- by Börge Göbel"
      ]
    },
    {
      "cell_type": "code",
      "execution_count": 58,
      "id": "48985065",
      "metadata": {
        "id": "48985065"
      },
      "outputs": [],
      "source": [
        "import numpy as np\n",
        "import matplotlib.pyplot as plt \n",
        "import matplotlib.patches as patches"
      ]
    },
    {
      "cell_type": "code",
      "source": [
        "fig = plt.figure()\n",
        "ax = fig.add_subplot(111, aspect = \"equal\")\n",
        "plt.rcParams['figure.figsize'] = [15, 15]\n",
        "\n",
        "rectangle = patches.Rectangle((-1,-1),2,2,facecolor = \"none\", edgecolor = \"red\")\n",
        "ax.add_patch(rectangle)\n",
        "\n",
        "circle = patches.Circle((0,0),1,facecolor = \"none\", edgecolor = \"blue\")\n",
        "ax.add_patch(circle)\n",
        "\n",
        "plt.xlim([-1.1,1.1])\n",
        "plt.ylim([-1.1,1.1])"
      ],
      "metadata": {
        "id": "0ulfx7uPfA1Y",
        "colab": {
          "base_uri": "https://localhost:8080/",
          "height": 337
        },
        "outputId": "4feb6beb-7f07-4a6f-c0a9-6b204b71e4b7"
      },
      "id": "0ulfx7uPfA1Y",
      "execution_count": 62,
      "outputs": [
        {
          "output_type": "execute_result",
          "data": {
            "text/plain": [
              "(-1.1, 1.1)"
            ]
          },
          "metadata": {},
          "execution_count": 62
        },
        {
          "output_type": "display_data",
          "data": {
            "text/plain": [
              "<Figure size 360x360 with 1 Axes>"
            ],
            "image/png": "[encoded data removed]"
          },
          "metadata": {
            "needs_background": "light"
          }
        }
      ]
    },
    {
      "cell_type": "markdown",
      "source": [
        "**Measure the area ratio by counting randomly generated points**"
      ],
      "metadata": {
        "id": "rp33wGKIWzu-"
      },
      "id": "rp33wGKIWzu-"
    },
    {
      "cell_type": "code",
      "source": [
        "points = 1000\n",
        "\n",
        "rand = 2*np.random.rand( 2*points) -1"
      ],
      "metadata": {
        "id": "OBKueSY_W-rS"
      },
      "id": "OBKueSY_W-rS",
      "execution_count": 63,
      "outputs": []
    },
    {
      "cell_type": "code",
      "source": [
        "rand"
      ],
      "metadata": {
        "colab": {
          "base_uri": "https://localhost:8080/"
        },
        "id": "DYmb7SaFdo6i",
        "outputId": "11e66678-9e1d-4546-df7d-389a0ce03ece"
      },
      "id": "DYmb7SaFdo6i",
      "execution_count": 64,
      "outputs": [
        {
          "output_type": "execute_result",
          "data": {
            "text/plain": [
              "array([-0.92596311, -0.93611273,  0.9655633 , ..., -0.57753843,\n",
              "        0.2765979 , -0.71121429])"
            ]
          },
          "metadata": {},
          "execution_count": 64
        }
      ]
    },
    {
      "cell_type": "code",
      "source": [
        "randpoints = rand.reshape(points, 2)"
      ],
      "metadata": {
        "id": "OT1FoKjXdc8N"
      },
      "id": "OT1FoKjXdc8N",
      "execution_count": 65,
      "outputs": []
    },
    {
      "cell_type": "code",
      "source": [
        "randpoints"
      ],
      "metadata": {
        "colab": {
          "base_uri": "https://localhost:8080/"
        },
        "id": "4QqVlLT9ogoH",
        "outputId": "5c78851f-f384-4499-f048-365e45a72eb6"
      },
      "id": "4QqVlLT9ogoH",
      "execution_count": 66,
      "outputs": [
        {
          "output_type": "execute_result",
          "data": {
            "text/plain": [
              "array([[-0.92596311, -0.93611273],\n",
              "       [ 0.9655633 ,  0.66078684],\n",
              "       [-0.09719534,  0.19681266],\n",
              "       ...,\n",
              "       [ 0.71543759, -0.60676351],\n",
              "       [-0.50260714, -0.57753843],\n",
              "       [ 0.2765979 , -0.71121429]])"
            ]
          },
          "metadata": {},
          "execution_count": 66
        }
      ]
    },
    {
      "cell_type": "code",
      "source": [
        "normpoints = randpoints[:,0]**2 + randpoints[:,1]**2"
      ],
      "metadata": {
        "id": "-JTJgW_FmwjS"
      },
      "id": "-JTJgW_FmwjS",
      "execution_count": 67,
      "outputs": []
    },
    {
      "cell_type": "code",
      "source": [
        "normpoints[0]"
      ],
      "metadata": {
        "colab": {
          "base_uri": "https://localhost:8080/"
        },
        "id": "lT51svvcmwWa",
        "outputId": "c96fe09e-67db-44bf-e6a5-cb28116b69c0"
      },
      "id": "lT51svvcmwWa",
      "execution_count": 68,
      "outputs": [
        {
          "output_type": "execute_result",
          "data": {
            "text/plain": [
              "1.7337147171927132"
            ]
          },
          "metadata": {},
          "execution_count": 68
        }
      ]
    },
    {
      "cell_type": "code",
      "source": [
        "pointsOut = randpoints[normpoints > 1]\n",
        "pointsIn = randpoints[normpoints <= 1]"
      ],
      "metadata": {
        "id": "EwrEw9YWonkP"
      },
      "id": "EwrEw9YWonkP",
      "execution_count": 69,
      "outputs": []
    },
    {
      "cell_type": "code",
      "source": [
        "piapprox = 4*len(pointsIn)/points\n",
        "print(piapprox)"
      ],
      "metadata": {
        "colab": {
          "base_uri": "https://localhost:8080/"
        },
        "id": "f8-EfHaUFawq",
        "outputId": "2fed03d2-6b1b-4ef5-d6b0-8533e3f1f8e6"
      },
      "id": "f8-EfHaUFawq",
      "execution_count": 70,
      "outputs": [
        {
          "output_type": "stream",
          "name": "stdout",
          "text": [
            "3.128\n"
          ]
        }
      ]
    },
    {
      "cell_type": "code",
      "source": [
        "piapprox - np.pi"
      ],
      "metadata": {
        "colab": {
          "base_uri": "https://localhost:8080/"
        },
        "id": "ptNd1w_dGFlf",
        "outputId": "9dce37d0-141d-4b05-cbdb-0d1aa39a3515"
      },
      "id": "ptNd1w_dGFlf",
      "execution_count": 71,
      "outputs": [
        {
          "output_type": "execute_result",
          "data": {
            "text/plain": [
              "-0.013592653589793002"
            ]
          },
          "metadata": {},
          "execution_count": 71
        }
      ]
    },
    {
      "cell_type": "code",
      "source": [
        "fig = plt.figure()\n",
        "ax = fig.add_subplot(111, aspect = \"equal\")\n",
        "plt.rcParams['figure.figsize'] = [10, 10]\n",
        "\n",
        "rectangle = patches.Rectangle((-1,-1),2,2,facecolor = \"none\", edgecolor = \"red\")\n",
        "ax.add_patch(rectangle)\n",
        "\n",
        "circle = patches.Circle((0,0),1,facecolor = \"none\", edgecolor = \"blue\")\n",
        "ax.add_patch(circle)\n",
        "\n",
        "plt.xlim([-1.1,1.1])\n",
        "plt.ylim([-1.1,1.1])\n",
        "\n",
        "plt.scatter(pointsIn[:,0],pointsIn[:,1], color = \"green\", s=2)\n",
        "plt.scatter(pointsOut[:,0],pointsOut[:,1], color = \"black\", s=2)"
      ],
      "metadata": {
        "colab": {
          "base_uri": "https://localhost:8080/",
          "height": 337
        },
        "id": "BxWazqvAMpgJ",
        "outputId": "0e7b9c9a-0ae7-466a-b40e-f0c603d2c58e"
      },
      "id": "BxWazqvAMpgJ",
      "execution_count": 82,
      "outputs": [
        {
          "output_type": "execute_result",
          "data": {
            "text/plain": [
              "<matplotlib.collections.PathCollection at 0x7fbe2ae218d0>"
            ]
          },
          "metadata": {},
          "execution_count": 82
        },
        {
          "output_type": "display_data",
          "data": {
            "text/plain": [
              "<Figure size 360x360 with 1 Axes>"
            ],
            "image/png": "[encoded data removed]"
          },
          "metadata": {
            "needs_background": "light"
          }
        }
      ]
    },
    {
      "cell_type": "markdown",
      "source": [
        "**Alternative: Loop method**"
      ],
      "metadata": {
        "id": "KIhvuItAUlT9"
      },
      "id": "KIhvuItAUlT9"
    },
    {
      "cell_type": "code",
      "source": [
        "i=0\n",
        "counter = 0\n",
        "\n",
        "while i<=points:\n",
        "    if np.linalg.norm(np.random.rand(2)-1) < 1:\n",
        "        counter = counter + 1\n",
        "    i = i + 1\n"
      ],
      "metadata": {
        "id": "0F7q97PmUkas"
      },
      "id": "0F7q97PmUkas",
      "execution_count": 85,
      "outputs": []
    },
    {
      "cell_type": "code",
      "source": [
        "piapprox = 4*counter/points\n",
        "print(piapprox)"
      ],
      "metadata": {
        "colab": {
          "base_uri": "https://localhost:8080/"
        },
        "id": "cUNtFlPrVO1R",
        "outputId": "b58eebb2-4159-42cc-b859-851d7720272a"
      },
      "id": "cUNtFlPrVO1R",
      "execution_count": 86,
      "outputs": [
        {
          "output_type": "stream",
          "name": "stdout",
          "text": [
            "3.176\n"
          ]
        }
      ]
    },
    {
      "cell_type": "markdown",
      "source": [
        "**Comparative method over time**"
      ],
      "metadata": {
        "id": "TFVrG7N_W4Rj"
      },
      "id": "TFVrG7N_W4Rj"
    },
    {
      "cell_type": "code",
      "source": [
        "%%timeit\n",
        "\n",
        "rand = 2*np.random.rand( 2*points) -1\n",
        "randpoints = rand.reshape(points, 2)\n",
        "normpoints = randpoints[:,0]**2 + randpoints[:,1]**2\n",
        "pointsIn = randpoints[normpoints <= 1]\n",
        "piapprox = 4*len(pointsIn)/points"
      ],
      "metadata": {
        "colab": {
          "base_uri": "https://localhost:8080/"
        },
        "id": "-UAdPT8_VOr_",
        "outputId": "23371ff9-eb4a-4c4f-cd8e-26c35ac0f4ae"
      },
      "id": "-UAdPT8_VOr_",
      "execution_count": 90,
      "outputs": [
        {
          "output_type": "stream",
          "name": "stdout",
          "text": [
            "59.1 µs ± 719 ns per loop (mean ± std. dev. of 7 runs, 10000 loops each)\n"
          ]
        }
      ]
    },
    {
      "cell_type": "markdown",
      "source": [
        "Loop method"
      ],
      "metadata": {
        "id": "HV40HDVKXZm5"
      },
      "id": "HV40HDVKXZm5"
    },
    {
      "cell_type": "code",
      "source": [
        "%%timeit\n",
        "\n",
        "i=0\n",
        "counter = 0\n",
        "\n",
        "while i<=points:\n",
        "    if np.linalg.norm(np.random.rand(2)-1) < 1:\n",
        "        counter = counter + 1\n",
        "    i = i + 1\n",
        "\n",
        "piapprox = 4*counter/points"
      ],
      "metadata": {
        "colab": {
          "base_uri": "https://localhost:8080/"
        },
        "id": "2ZqBBMp9XcOz",
        "outputId": "d4921a48-8353-4e93-ad70-7160a4833eed"
      },
      "id": "2ZqBBMp9XcOz",
      "execution_count": 91,
      "outputs": [
        {
          "output_type": "stream",
          "name": "stdout",
          "text": [
            "9.03 ms ± 331 µs per loop (mean ± std. dev. of 7 runs, 100 loops each)\n"
          ]
        }
      ]
    },
    {
      "cell_type": "markdown",
      "id": "96417124",
      "metadata": {
        "id": "96417124"
      },
      "source": [
        "## 1. Generate starting configuration"
      ]
    },
    {
      "cell_type": "markdown",
      "id": "26ee5641",
      "metadata": {
        "id": "26ee5641"
      },
      "source": [
        "We start with a randomly generated array of magnetic moments \\\\( \\{ \\vec{m}_1, \\vec{m}_2, \\dots, \\vec{m}_n \\} \\\\). The length of each moment is fixed \\\\( |\\vec{m}_i| = 1 \\\\) but the orientation is chosen randomly. We can construct this by generating a random polar angle \\\\( \\varphi_i \\\\) and azimutal angle \\\\( \\theta_i \\\\) and using spherical coordinates:\n",
        "\n",
        "\\\\( \\vec{m}_i = \\begin{pmatrix} \\cos\\varphi_i\\sin\\theta_i \\\\ \\sin\\varphi_i\\sin\\theta_i \\\\ \\cos\\theta_i \\end{pmatrix} \\\\)"
      ]
    },
    {
      "cell_type": "markdown",
      "id": "04f251fc",
      "metadata": {
        "id": "04f251fc"
      },
      "source": [
        "### Magnetic moments"
      ]
    },
    {
      "cell_type": "code",
      "execution_count": 36,
      "id": "9d2099a3",
      "metadata": {
        "id": "9d2099a3"
      },
      "outputs": [],
      "source": []
    },
    {
      "cell_type": "markdown",
      "id": "54ba25e4",
      "metadata": {
        "id": "54ba25e4"
      },
      "source": [
        "### Positions"
      ]
    },
    {
      "cell_type": "code",
      "execution_count": 36,
      "id": "6ac159f3",
      "metadata": {
        "id": "6ac159f3"
      },
      "outputs": [],
      "source": []
    },
    {
      "cell_type": "markdown",
      "id": "a26aba55",
      "metadata": {
        "id": "a26aba55"
      },
      "source": [
        "### Plot"
      ]
    },
    {
      "cell_type": "code",
      "execution_count": 37,
      "id": "fccc1095",
      "metadata": {
        "id": "fccc1095"
      },
      "outputs": [],
      "source": [
        "# Change standard size of all figures in this notebook\n",
        "plt.rcParams['figure.figsize'] = [40, 15]"
      ]
    },
    {
      "cell_type": "code",
      "execution_count": 37,
      "id": "9f83398d",
      "metadata": {
        "id": "9f83398d"
      },
      "outputs": [],
      "source": []
    },
    {
      "cell_type": "markdown",
      "id": "0c257341",
      "metadata": {
        "id": "0c257341"
      },
      "source": [
        "## 2. Calculating the energy "
      ]
    },
    {
      "cell_type": "markdown",
      "id": "d8b6de7f",
      "metadata": {
        "id": "d8b6de7f"
      },
      "source": [
        "We are searching for the configuration with the lowest energy. For a ferromagnet the energy can be written as:\n",
        "\n",
        "\\\\( H = -\\frac{1}{2}J\\sum_{<i,j>}\\vec{m}_i\\cdot\\vec{m}_j  \\\\) \n",
        "\n",
        "Every moment is interacting with its direct neighbor (\\\\( <i,j> \\\\)) and prefers a parallel orientation as long as \\\\( J > 0\\\\). Of course, there exist additional energy terms that have to be considered for a realistic ferromagnet but we will neglect them for now. "
      ]
    },
    {
      "cell_type": "code",
      "execution_count": 37,
      "id": "74dae63e",
      "metadata": {
        "id": "74dae63e"
      },
      "outputs": [],
      "source": []
    },
    {
      "cell_type": "markdown",
      "id": "b3d044c7",
      "metadata": {
        "id": "b3d044c7"
      },
      "source": [
        "__Update 2 (skip for the beginning):__ We can apply an external magnetic field \\\\( \\vec{B} \\\\). This leads to the energy:\n",
        "\n",
        "\\\\( H = -\\frac{1}{2}J\\sum_{<i,j>}\\vec{m}_i\\cdot\\vec{m}_j - \\mu \\sum_i \\vec{B}\\cdot \\vec{m}_i \\\\) "
      ]
    },
    {
      "cell_type": "code",
      "execution_count": 37,
      "id": "82f48a7e",
      "metadata": {
        "id": "82f48a7e"
      },
      "outputs": [],
      "source": []
    },
    {
      "cell_type": "markdown",
      "id": "f04ce610",
      "metadata": {
        "id": "f04ce610"
      },
      "source": [
        "__Update 3 (skip for the beginning):__ We include the Dzyaloshinskii–Moriya interaction (asymmetric exchange).\n",
        "\n",
        "\\\\( H = -\\frac{1}{2}J\\sum_{<i,j>}\\vec{m}_i\\cdot\\vec{m}_j - \\mu B \\sum_i m_i^{(z)}  + \\frac{1}{2}\\sum_{<i,j>}\\vec{D}_{ij}\\cdot\\left(\\vec{m}_i\\times\\vec{m}_j\\right)\\\\) \n",
        "\n",
        "The vectors \\\\( \\vec{D}_{ij} \\\\) are determined by the symmetry of the sample. In our example, they shall point along the direction \\\\( i \\rightarrow j\\\\). \n",
        "\n",
        "As an example, let us consider a bond along the \\\\( x \\\\) direction:\n",
        "\n",
        "\\\\( \\vec{D}_{ij}\\cdot\\left(\\vec{m}_i\\times\\vec{m}_j\\right) = D \\vec{e}_x \\cdot \\left(\\vec{m}_i\\times\\vec{m}_j\\right) = D \\left( m_i^{(y)}m_j^{(z)} - m_i^{(z)}m_j^{(y)} \\right)\\\\) \n",
        "\n",
        "For a bond along the \\\\( y \\\\) direction:\n",
        "\n",
        "\\\\( \\vec{D}_{ij}\\cdot\\left(\\vec{m}_i\\times\\vec{m}_j\\right) = D \\vec{e}_y \\cdot \\left(\\vec{m}_i\\times\\vec{m}_j\\right) = D \\left( m_i^{(z)}m_j^{(x)} - m_i^{(x)}m_j^{(z)} \\right)\\\\) "
      ]
    },
    {
      "cell_type": "code",
      "execution_count": 37,
      "id": "5c27dd52",
      "metadata": {
        "id": "5c27dd52"
      },
      "outputs": [],
      "source": []
    },
    {
      "cell_type": "markdown",
      "id": "fd4100c1",
      "metadata": {
        "id": "fd4100c1"
      },
      "source": [
        "## 3. Metropolis step"
      ]
    },
    {
      "cell_type": "markdown",
      "id": "67348885",
      "metadata": {
        "id": "67348885"
      },
      "source": [
        "Now to the actual Monte Carlo algorithm. We will repeditly do so-called Metropolis steps: \n",
        "\n",
        "1. A random magnetic moment is selected.\n",
        "2. It is reoriented along a random direction.\n",
        "3. The energy is calculated \\\\( E_\\mathrm{new} \\\\).\n",
        "4. The energy is compared to the old energy \\\\( E_\\mathrm{old} \\\\): \n",
        "    - If the energy is decreased, the random change of the magnetic moment is accepted. \n",
        "    - If the energy is increased, the old magnetic moment is restored."
      ]
    },
    {
      "cell_type": "code",
      "execution_count": 37,
      "id": "5031084e",
      "metadata": {
        "id": "5031084e"
      },
      "outputs": [],
      "source": []
    },
    {
      "cell_type": "markdown",
      "id": "91526551",
      "metadata": {
        "id": "91526551"
      },
      "source": [
        "__Update 1 (skip for the beginning):__ For finite temperatures \\\\( T \\\\), we accept the change with a chance \\\\( \\exp\\left(-\\frac{E_\\mathrm{new}-E_\\mathrm{old}}{k_BT}\\right) \\\\)"
      ]
    },
    {
      "cell_type": "code",
      "execution_count": 37,
      "id": "c1eb7111",
      "metadata": {
        "id": "c1eb7111"
      },
      "outputs": [],
      "source": []
    },
    {
      "cell_type": "markdown",
      "id": "894a06a9",
      "metadata": {
        "id": "894a06a9"
      },
      "source": [
        "__Update 2 (skip for the beginning):__ We include the energy corresponding to the interaction with the magnetic field:"
      ]
    },
    {
      "cell_type": "markdown",
      "id": "760f9996",
      "metadata": {
        "id": "760f9996"
      },
      "source": [
        "__Update 3 (skip for the beginning):__ We include the energy corresponding to the Dzyaloshinskii–Moriya interaction (asymmetric exchange):"
      ]
    },
    {
      "cell_type": "code",
      "execution_count": 37,
      "id": "1b3f3b3d",
      "metadata": {
        "id": "1b3f3b3d"
      },
      "outputs": [],
      "source": []
    },
    {
      "cell_type": "markdown",
      "id": "c932f35d",
      "metadata": {
        "id": "c932f35d"
      },
      "source": [
        "## 4. Run the Monte Carlo algorithm"
      ]
    },
    {
      "cell_type": "code",
      "execution_count": 37,
      "id": "5245a95a",
      "metadata": {
        "id": "5245a95a"
      },
      "outputs": [],
      "source": []
    }
  ],
  "metadata": {
    "kernelspec": {
      "display_name": "Python 3 (ipykernel)",
      "language": "python",
      "name": "python3"
    },
    "language_info": {
      "codemirror_mode": {
        "name": "ipython",
        "version": 3
      },
      "file_extension": ".py",
      "mimetype": "text/x-python",
      "name": "python",
      "nbconvert_exporter": "python",
      "pygments_lexer": "ipython3",
      "version": "3.9.7"
    },
    "colab": {
      "provenance": [],
      "include_colab_link": true
    }
  },
  "nbformat": 4,
  "nbformat_minor": 5
}