{
  "cells": [
    {
      "cell_type": "markdown",
      "metadata": {
        "id": "view-in-github",
        "colab_type": "text"
      },
      "source": [
        "<a href=\"https://colab.research.google.com/github/Xavier-ML/Computational-Physics-with-Python/blob/main/09b_MC_magnet_template.ipynb\" target=\"_parent\"><img src=\"https://colab.research.google.com/assets/colab-badge.svg\" alt=\"Open In Colab\"/></a>"
      ]
    },
    {
      "cell_type": "markdown",
      "id": "7daba201",
      "metadata": {
        "id": "7daba201"
      },
      "source": [
        "# Simulating a magnet using a Monte Carlo algorithm\n",
        "\n",
        "- by Börge Göbel"
      ]
    },
    {
      "cell_type": "code",
      "execution_count": 28,
      "id": "48985065",
      "metadata": {
        "id": "48985065"
      },
      "outputs": [],
      "source": [
        "import numpy as np\n",
        "import matplotlib.pyplot as plt \n",
        "import matplotlib.patches as patches"
      ]
    },
    {
      "cell_type": "code",
      "source": [
        "fig = plt.figure()\n",
        "ax = fig.add_subplot(111, aspect = \"equal\")\n",
        "\n",
        "rectangle = patches.Rectangle((-1,-1),2,2,facecolor = \"red\")\n",
        "ax.add_patch(rectangle)\n",
        "\n",
        "circle = patches.Circle((0,0),1,facecolor = \"none\", edgecolor = \"blue\")\n",
        "ax.add_patch(circle)\n",
        "\n",
        "plt.xlim([-1.1,1.1])\n",
        "plt.ylim([-1.1,1.1])"
      ],
      "metadata": {
        "id": "0ulfx7uPfA1Y",
        "colab": {
          "base_uri": "https://localhost:8080/",
          "height": 282
        },
        "outputId": "b28ee454-5d5e-4be4-e520-2c260c482422"
      },
      "id": "0ulfx7uPfA1Y",
      "execution_count": 29,
      "outputs": [
        {
          "output_type": "execute_result",
          "data": {
            "text/plain": [
              "(-1.1, 1.1)"
            ]
          },
          "metadata": {},
          "execution_count": 29
        },
        {
          "output_type": "display_data",
          "data": {
            "text/plain": [
              "<Figure size 432x288 with 1 Axes>"
            ],
            "image/png": "[encoded data removed]"
          },
          "metadata": {
            "needs_background": "light"
          }
        }
      ]
    },
    {
      "cell_type": "markdown",
      "source": [
        "**Measure the area ratio by counting randomly generated points**"
      ],
      "metadata": {
        "id": "rp33wGKIWzu-"
      },
      "id": "rp33wGKIWzu-"
    },
    {
      "cell_type": "code",
      "source": [
        "points = 1000\n",
        "\n",
        "rand = 2*np.random.rand( 2*points) -1"
      ],
      "metadata": {
        "id": "OBKueSY_W-rS"
      },
      "id": "OBKueSY_W-rS",
      "execution_count": 30,
      "outputs": []
    },
    {
      "cell_type": "code",
      "source": [
        "rand"
      ],
      "metadata": {
        "colab": {
          "base_uri": "https://localhost:8080/"
        },
        "id": "DYmb7SaFdo6i",
        "outputId": "a843736f-e064-4019-ff68-8ba34e88bff7"
      },
      "id": "DYmb7SaFdo6i",
      "execution_count": 31,
      "outputs": [
        {
          "output_type": "execute_result",
          "data": {
            "text/plain": [
              "array([ 0.74977702,  0.45656295, -0.98084372, ..., -0.94000667,\n",
              "       -0.33834564, -0.22760565])"
            ]
          },
          "metadata": {},
          "execution_count": 31
        }
      ]
    },
    {
      "cell_type": "code",
      "source": [
        "randpoints = rand.reshape(points, 2)"
      ],
      "metadata": {
        "id": "OT1FoKjXdc8N"
      },
      "id": "OT1FoKjXdc8N",
      "execution_count": 32,
      "outputs": []
    },
    {
      "cell_type": "code",
      "source": [
        "randpoints"
      ],
      "metadata": {
        "colab": {
          "base_uri": "https://localhost:8080/"
        },
        "id": "4QqVlLT9ogoH",
        "outputId": "80e4593f-977c-464e-dedc-38f0a8fff061"
      },
      "id": "4QqVlLT9ogoH",
      "execution_count": 33,
      "outputs": [
        {
          "output_type": "execute_result",
          "data": {
            "text/plain": [
              "array([[ 0.74977702,  0.45656295],\n",
              "       [-0.98084372,  0.98487067],\n",
              "       [-0.65150292,  0.5225447 ],\n",
              "       ...,\n",
              "       [-0.54246419,  0.70859025],\n",
              "       [-0.02989595, -0.94000667],\n",
              "       [-0.33834564, -0.22760565]])"
            ]
          },
          "metadata": {},
          "execution_count": 33
        }
      ]
    },
    {
      "cell_type": "code",
      "source": [
        "normpoints = randpoints[:,0]**2 + randpoints[:,1]**2"
      ],
      "metadata": {
        "id": "-JTJgW_FmwjS"
      },
      "id": "-JTJgW_FmwjS",
      "execution_count": 34,
      "outputs": []
    },
    {
      "cell_type": "code",
      "source": [
        "normpoints[0]"
      ],
      "metadata": {
        "colab": {
          "base_uri": "https://localhost:8080/"
        },
        "id": "lT51svvcmwWa",
        "outputId": "68a552d5-a0b0-48a3-a423-92757c046ed5"
      },
      "id": "lT51svvcmwWa",
      "execution_count": 35,
      "outputs": [
        {
          "output_type": "execute_result",
          "data": {
            "text/plain": [
              "0.770615298145817"
            ]
          },
          "metadata": {},
          "execution_count": 35
        }
      ]
    },
    {
      "cell_type": "code",
      "source": [
        "pointsOut = randpoints[normpoints > 1]\n",
        "pointsIn = randpoints[normpoints <= 1]"
      ],
      "metadata": {
        "id": "EwrEw9YWonkP"
      },
      "id": "EwrEw9YWonkP",
      "execution_count": 38,
      "outputs": []
    },
    {
      "cell_type": "code",
      "source": [
        "piapprox = 4*len(pointsIn)/points\n",
        "print(piapprox)"
      ],
      "metadata": {
        "colab": {
          "base_uri": "https://localhost:8080/"
        },
        "id": "f8-EfHaUFawq",
        "outputId": "76d99539-55d1-4d63-caa5-649fe336cc62"
      },
      "id": "f8-EfHaUFawq",
      "execution_count": 40,
      "outputs": [
        {
          "output_type": "stream",
          "name": "stdout",
          "text": [
            "3.184\n"
          ]
        }
      ]
    },
    {
      "cell_type": "code",
      "source": [
        "piapprox - np.pi"
      ],
      "metadata": {
        "colab": {
          "base_uri": "https://localhost:8080/"
        },
        "id": "ptNd1w_dGFlf",
        "outputId": "01cff4bd-8b21-4144-ae22-a29f59de8ea2"
      },
      "id": "ptNd1w_dGFlf",
      "execution_count": 41,
      "outputs": [
        {
          "output_type": "execute_result",
          "data": {
            "text/plain": [
              "0.04240734641020705"
            ]
          },
          "metadata": {},
          "execution_count": 41
        }
      ]
    },
    {
      "cell_type": "code",
      "source": [
        "fig = plt.figure()\n",
        "ax = fig.add_subplot(111, aspect = \"equal\")\n",
        "\n",
        "rectangle = patches.Rectangle((-1,-1),2,2,facecolor = \"none\", edgecolor = \"red\")\n",
        "ax.add_patch(rectangle)\n",
        "\n",
        "circle = patches.Circle((0,0),1,facecolor = \"none\", edgecolor = \"blue\")\n",
        "ax.add_patch(circle)\n",
        "\n",
        "plt.xlim([-1.1,1.1])\n",
        "plt.ylim([-1.1,1.1])\n",
        "\n",
        "plt.scatter(pointsIn[:,0],pointsIn[:,1], color = \"green\", s=2)\n",
        "plt.scatter(pointsOut[:,0],pointsOut[:,1], color = \"black\", s=2)"
      ],
      "metadata": {
        "colab": {
          "base_uri": "https://localhost:8080/",
          "height": 880
        },
        "id": "BxWazqvAMpgJ",
        "outputId": "da65b2c9-0031-4090-cca3-53baaef059ac"
      },
      "id": "BxWazqvAMpgJ",
      "execution_count": 53,
      "outputs": [
        {
          "output_type": "execute_result",
          "data": {
            "text/plain": [
              "<matplotlib.collections.PathCollection at 0x7fbe2b6dd150>"
            ]
          },
          "metadata": {},
          "execution_count": 53
        },
        {
          "output_type": "display_data",
          "data": {
            "text/plain": [
              "<Figure size 2880x1080 with 1 Axes>"
            ],
            "image/png": "[encoded data removed]"
          },
          "metadata": {
            "needs_background": "light"
          }
        }
      ]
    },
    {
      "cell_type": "markdown",
      "id": "96417124",
      "metadata": {
        "id": "96417124"
      },
      "source": [
        "## 1. Generate starting configuration"
      ]
    },
    {
      "cell_type": "markdown",
      "id": "26ee5641",
      "metadata": {
        "id": "26ee5641"
      },
      "source": [
        "We start with a randomly generated array of magnetic moments \\\\( \\{ \\vec{m}_1, \\vec{m}_2, \\dots, \\vec{m}_n \\} \\\\). The length of each moment is fixed \\\\( |\\vec{m}_i| = 1 \\\\) but the orientation is chosen randomly. We can construct this by generating a random polar angle \\\\( \\varphi_i \\\\) and azimutal angle \\\\( \\theta_i \\\\) and using spherical coordinates:\n",
        "\n",
        "\\\\( \\vec{m}_i = \\begin{pmatrix} \\cos\\varphi_i\\sin\\theta_i \\\\ \\sin\\varphi_i\\sin\\theta_i \\\\ \\cos\\theta_i \\end{pmatrix} \\\\)"
      ]
    },
    {
      "cell_type": "markdown",
      "id": "04f251fc",
      "metadata": {
        "id": "04f251fc"
      },
      "source": [
        "### Magnetic moments"
      ]
    },
    {
      "cell_type": "code",
      "execution_count": 36,
      "id": "9d2099a3",
      "metadata": {
        "id": "9d2099a3"
      },
      "outputs": [],
      "source": []
    },
    {
      "cell_type": "markdown",
      "id": "54ba25e4",
      "metadata": {
        "id": "54ba25e4"
      },
      "source": [
        "### Positions"
      ]
    },
    {
      "cell_type": "code",
      "execution_count": 36,
      "id": "6ac159f3",
      "metadata": {
        "id": "6ac159f3"
      },
      "outputs": [],
      "source": []
    },
    {
      "cell_type": "markdown",
      "id": "a26aba55",
      "metadata": {
        "id": "a26aba55"
      },
      "source": [
        "### Plot"
      ]
    },
    {
      "cell_type": "code",
      "execution_count": 37,
      "id": "fccc1095",
      "metadata": {
        "id": "fccc1095"
      },
      "outputs": [],
      "source": [
        "# Change standard size of all figures in this notebook\n",
        "plt.rcParams['figure.figsize'] = [40, 15]"
      ]
    },
    {
      "cell_type": "code",
      "execution_count": 37,
      "id": "9f83398d",
      "metadata": {
        "id": "9f83398d"
      },
      "outputs": [],
      "source": []
    },
    {
      "cell_type": "markdown",
      "id": "0c257341",
      "metadata": {
        "id": "0c257341"
      },
      "source": [
        "## 2. Calculating the energy "
      ]
    },
    {
      "cell_type": "markdown",
      "id": "d8b6de7f",
      "metadata": {
        "id": "d8b6de7f"
      },
      "source": [
        "We are searching for the configuration with the lowest energy. For a ferromagnet the energy can be written as:\n",
        "\n",
        "\\\\( H = -\\frac{1}{2}J\\sum_{<i,j>}\\vec{m}_i\\cdot\\vec{m}_j  \\\\) \n",
        "\n",
        "Every moment is interacting with its direct neighbor (\\\\( <i,j> \\\\)) and prefers a parallel orientation as long as \\\\( J > 0\\\\). Of course, there exist additional energy terms that have to be considered for a realistic ferromagnet but we will neglect them for now. "
      ]
    },
    {
      "cell_type": "code",
      "execution_count": 37,
      "id": "74dae63e",
      "metadata": {
        "id": "74dae63e"
      },
      "outputs": [],
      "source": []
    },
    {
      "cell_type": "markdown",
      "id": "b3d044c7",
      "metadata": {
        "id": "b3d044c7"
      },
      "source": [
        "__Update 2 (skip for the beginning):__ We can apply an external magnetic field \\\\( \\vec{B} \\\\). This leads to the energy:\n",
        "\n",
        "\\\\( H = -\\frac{1}{2}J\\sum_{<i,j>}\\vec{m}_i\\cdot\\vec{m}_j - \\mu \\sum_i \\vec{B}\\cdot \\vec{m}_i \\\\) "
      ]
    },
    {
      "cell_type": "code",
      "execution_count": 37,
      "id": "82f48a7e",
      "metadata": {
        "id": "82f48a7e"
      },
      "outputs": [],
      "source": []
    },
    {
      "cell_type": "markdown",
      "id": "f04ce610",
      "metadata": {
        "id": "f04ce610"
      },
      "source": [
        "__Update 3 (skip for the beginning):__ We include the Dzyaloshinskii–Moriya interaction (asymmetric exchange).\n",
        "\n",
        "\\\\( H = -\\frac{1}{2}J\\sum_{<i,j>}\\vec{m}_i\\cdot\\vec{m}_j - \\mu B \\sum_i m_i^{(z)}  + \\frac{1}{2}\\sum_{<i,j>}\\vec{D}_{ij}\\cdot\\left(\\vec{m}_i\\times\\vec{m}_j\\right)\\\\) \n",
        "\n",
        "The vectors \\\\( \\vec{D}_{ij} \\\\) are determined by the symmetry of the sample. In our example, they shall point along the direction \\\\( i \\rightarrow j\\\\). \n",
        "\n",
        "As an example, let us consider a bond along the \\\\( x \\\\) direction:\n",
        "\n",
        "\\\\( \\vec{D}_{ij}\\cdot\\left(\\vec{m}_i\\times\\vec{m}_j\\right) = D \\vec{e}_x \\cdot \\left(\\vec{m}_i\\times\\vec{m}_j\\right) = D \\left( m_i^{(y)}m_j^{(z)} - m_i^{(z)}m_j^{(y)} \\right)\\\\) \n",
        "\n",
        "For a bond along the \\\\( y \\\\) direction:\n",
        "\n",
        "\\\\( \\vec{D}_{ij}\\cdot\\left(\\vec{m}_i\\times\\vec{m}_j\\right) = D \\vec{e}_y \\cdot \\left(\\vec{m}_i\\times\\vec{m}_j\\right) = D \\left( m_i^{(z)}m_j^{(x)} - m_i^{(x)}m_j^{(z)} \\right)\\\\) "
      ]
    },
    {
      "cell_type": "code",
      "execution_count": 37,
      "id": "5c27dd52",
      "metadata": {
        "id": "5c27dd52"
      },
      "outputs": [],
      "source": []
    },
    {
      "cell_type": "markdown",
      "id": "fd4100c1",
      "metadata": {
        "id": "fd4100c1"
      },
      "source": [
        "## 3. Metropolis step"
      ]
    },
    {
      "cell_type": "markdown",
      "id": "67348885",
      "metadata": {
        "id": "67348885"
      },
      "source": [
        "Now to the actual Monte Carlo algorithm. We will repeditly do so-called Metropolis steps: \n",
        "\n",
        "1. A random magnetic moment is selected.\n",
        "2. It is reoriented along a random direction.\n",
        "3. The energy is calculated \\\\( E_\\mathrm{new} \\\\).\n",
        "4. The energy is compared to the old energy \\\\( E_\\mathrm{old} \\\\): \n",
        "    - If the energy is decreased, the random change of the magnetic moment is accepted. \n",
        "    - If the energy is increased, the old magnetic moment is restored."
      ]
    },
    {
      "cell_type": "code",
      "execution_count": 37,
      "id": "5031084e",
      "metadata": {
        "id": "5031084e"
      },
      "outputs": [],
      "source": []
    },
    {
      "cell_type": "markdown",
      "id": "91526551",
      "metadata": {
        "id": "91526551"
      },
      "source": [
        "__Update 1 (skip for the beginning):__ For finite temperatures \\\\( T \\\\), we accept the change with a chance \\\\( \\exp\\left(-\\frac{E_\\mathrm{new}-E_\\mathrm{old}}{k_BT}\\right) \\\\)"
      ]
    },
    {
      "cell_type": "code",
      "execution_count": 37,
      "id": "c1eb7111",
      "metadata": {
        "id": "c1eb7111"
      },
      "outputs": [],
      "source": []
    },
    {
      "cell_type": "markdown",
      "id": "894a06a9",
      "metadata": {
        "id": "894a06a9"
      },
      "source": [
        "__Update 2 (skip for the beginning):__ We include the energy corresponding to the interaction with the magnetic field:"
      ]
    },
    {
      "cell_type": "markdown",
      "id": "760f9996",
      "metadata": {
        "id": "760f9996"
      },
      "source": [
        "__Update 3 (skip for the beginning):__ We include the energy corresponding to the Dzyaloshinskii–Moriya interaction (asymmetric exchange):"
      ]
    },
    {
      "cell_type": "code",
      "execution_count": 37,
      "id": "1b3f3b3d",
      "metadata": {
        "id": "1b3f3b3d"
      },
      "outputs": [],
      "source": []
    },
    {
      "cell_type": "markdown",
      "id": "c932f35d",
      "metadata": {
        "id": "c932f35d"
      },
      "source": [
        "## 4. Run the Monte Carlo algorithm"
      ]
    },
    {
      "cell_type": "code",
      "execution_count": 37,
      "id": "5245a95a",
      "metadata": {
        "id": "5245a95a"
      },
      "outputs": [],
      "source": []
    }
  ],
  "metadata": {
    "kernelspec": {
      "display_name": "Python 3 (ipykernel)",
      "language": "python",
      "name": "python3"
    },
    "language_info": {
      "codemirror_mode": {
        "name": "ipython",
        "version": 3
      },
      "file_extension": ".py",
      "mimetype": "text/x-python",
      "name": "python",
      "nbconvert_exporter": "python",
      "pygments_lexer": "ipython3",
      "version": "3.9.7"
    },
    "colab": {
      "provenance": [],
      "include_colab_link": true
    }
  },
  "nbformat": 4,
  "nbformat_minor": 5
}